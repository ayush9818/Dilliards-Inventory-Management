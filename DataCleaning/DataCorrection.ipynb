{
 "cells": [
  {
   "cell_type": "code",
   "execution_count": 1,
   "id": "afc003f6",
   "metadata": {},
   "outputs": [],
   "source": [
    "import pandas as pd\n",
    "import os"
   ]
  },
  {
   "cell_type": "code",
   "execution_count": 2,
   "id": "80201c9e",
   "metadata": {},
   "outputs": [
    {
     "name": "stdout",
     "output_type": "stream",
     "text": [
      "/Users/dare_devil/Desktop/MLDS_2024/Quarter1/Everything_Starts_With_Data/MLDS_400_G11/DataCleaning\r\n"
     ]
    }
   ],
   "source": [
    "! pwd"
   ]
  },
  {
   "cell_type": "code",
   "execution_count": 32,
   "id": "8ddbac9b",
   "metadata": {},
   "outputs": [
    {
     "data": {
      "text/plain": [
       "['skuinfo.csv',\n",
       " 'trnsact_sample.csv',\n",
       " 'deptinfo.csv',\n",
       " 'skstinfo_sample.csv',\n",
       " 'strinfo.csv']"
      ]
     },
     "execution_count": 32,
     "metadata": {},
     "output_type": "execute_result"
    }
   ],
   "source": [
    "base_dir = '/Users/dare_devil/Desktop/MLDS_2024/Quarter1/Everything_Starts_With_Data/'\n",
    "data_dir = os.path.join(base_dir, 'final_data')\n",
    "cleaned_data_dir = os.path.join(base_dir, 'cleaned_data')\n",
    "os.makedirs(cleaned_data_dir, exist_ok=True)\n",
    "os.listdir(data_dir)"
   ]
  },
  {
   "cell_type": "markdown",
   "id": "b7a36ac6",
   "metadata": {},
   "source": [
    "## STRINFO"
   ]
  },
  {
   "cell_type": "code",
   "execution_count": 14,
   "id": "6e3e5b65",
   "metadata": {},
   "outputs": [
    {
     "name": "stdout",
     "output_type": "stream",
     "text": [
      "StrInfo Num Rows: 453\n"
     ]
    },
    {
     "data": {
      "text/html": [
       "<div>\n",
       "<style scoped>\n",
       "    .dataframe tbody tr th:only-of-type {\n",
       "        vertical-align: middle;\n",
       "    }\n",
       "\n",
       "    .dataframe tbody tr th {\n",
       "        vertical-align: top;\n",
       "    }\n",
       "\n",
       "    .dataframe thead th {\n",
       "        text-align: right;\n",
       "    }\n",
       "</style>\n",
       "<table border=\"1\" class=\"dataframe\">\n",
       "  <thead>\n",
       "    <tr style=\"text-align: right;\">\n",
       "      <th></th>\n",
       "      <th>STORE</th>\n",
       "      <th>CITY</th>\n",
       "      <th>STATE</th>\n",
       "      <th>ZIP</th>\n",
       "    </tr>\n",
       "  </thead>\n",
       "  <tbody>\n",
       "    <tr>\n",
       "      <th>0</th>\n",
       "      <td>2</td>\n",
       "      <td>ST. PETERSBURG</td>\n",
       "      <td>FL</td>\n",
       "      <td>33710</td>\n",
       "    </tr>\n",
       "    <tr>\n",
       "      <th>1</th>\n",
       "      <td>3</td>\n",
       "      <td>ST. LOUIS</td>\n",
       "      <td>MO</td>\n",
       "      <td>63126</td>\n",
       "    </tr>\n",
       "    <tr>\n",
       "      <th>2</th>\n",
       "      <td>4</td>\n",
       "      <td>LITTLE ROCK</td>\n",
       "      <td>AR</td>\n",
       "      <td>72201</td>\n",
       "    </tr>\n",
       "    <tr>\n",
       "      <th>3</th>\n",
       "      <td>7</td>\n",
       "      <td>FORT WORTH</td>\n",
       "      <td>TX</td>\n",
       "      <td>76137</td>\n",
       "    </tr>\n",
       "    <tr>\n",
       "      <th>4</th>\n",
       "      <td>9</td>\n",
       "      <td>TEMPE</td>\n",
       "      <td>AZ</td>\n",
       "      <td>85281</td>\n",
       "    </tr>\n",
       "  </tbody>\n",
       "</table>\n",
       "</div>"
      ],
      "text/plain": [
       "   STORE                  CITY STATE    ZIP\n",
       "0      2  ST. PETERSBURG          FL  33710\n",
       "1      3  ST. LOUIS               MO  63126\n",
       "2      4  LITTLE ROCK             AR  72201\n",
       "3      7  FORT WORTH              TX  76137\n",
       "4      9  TEMPE                   AZ  85281"
      ]
     },
     "execution_count": 14,
     "metadata": {},
     "output_type": "execute_result"
    }
   ],
   "source": [
    "strinfo = pd.read_csv(os.path.join(data_dir, 'strinfo.csv'))\n",
    "print(f\"StrInfo Num Rows: {strinfo.shape[0]}\")\n",
    "strinfo.head()"
   ]
  },
  {
   "cell_type": "code",
   "execution_count": 52,
   "id": "8e14264b",
   "metadata": {},
   "outputs": [
    {
     "data": {
      "text/plain": [
       "(453,)"
      ]
     },
     "execution_count": 52,
     "metadata": {},
     "output_type": "execute_result"
    }
   ],
   "source": [
    "strinfo.STORE.unique().shape"
   ]
  },
  {
   "cell_type": "code",
   "execution_count": 20,
   "id": "9eb39390",
   "metadata": {},
   "outputs": [
    {
     "name": "stdout",
     "output_type": "stream",
     "text": [
      "STORE int64\n",
      "CITY object\n",
      "STATE object\n",
      "ZIP int64\n"
     ]
    }
   ],
   "source": [
    "for column in strinfo.columns:\n",
    "    print(column, strinfo[column].dtype)"
   ]
  },
  {
   "cell_type": "code",
   "execution_count": 27,
   "id": "931c9f32",
   "metadata": {},
   "outputs": [
    {
     "data": {
      "text/plain": [
       "('ST. PETERSBURG      ', 'FL')"
      ]
     },
     "execution_count": 27,
     "metadata": {},
     "output_type": "execute_result"
    }
   ],
   "source": [
    "strinfo.CITY.unique().tolist()[0], strinfo.STATE.unique().tolist()[0]"
   ]
  },
  {
   "cell_type": "code",
   "execution_count": 37,
   "id": "fffb328b",
   "metadata": {},
   "outputs": [],
   "source": [
    "strinfo['CITY'] = strinfo['CITY'].apply(lambda x : x.strip())\n",
    "strinfo['STATE'] = strinfo['STATE'].apply(lambda x : x.strip())"
   ]
  },
  {
   "cell_type": "code",
   "execution_count": 38,
   "id": "04b70262",
   "metadata": {},
   "outputs": [
    {
     "data": {
      "text/plain": [
       "('ST. PETERSBURG', 'FL')"
      ]
     },
     "execution_count": 38,
     "metadata": {},
     "output_type": "execute_result"
    }
   ],
   "source": [
    "strinfo.CITY.unique().tolist()[0], strinfo.STATE.unique().tolist()[0]"
   ]
  },
  {
   "cell_type": "code",
   "execution_count": 39,
   "id": "cbe788f1",
   "metadata": {},
   "outputs": [],
   "source": [
    "strinfo.to_csv(os.path.join(cleaned_data_dir, 'strinfo.csv'), index=False)"
   ]
  },
  {
   "cell_type": "markdown",
   "id": "234f2649",
   "metadata": {},
   "source": [
    "## deptinfo.csv"
   ]
  },
  {
   "cell_type": "code",
   "execution_count": 40,
   "id": "010dd086",
   "metadata": {},
   "outputs": [
    {
     "name": "stdout",
     "output_type": "stream",
     "text": [
      "60\n"
     ]
    },
    {
     "data": {
      "text/html": [
       "<div>\n",
       "<style scoped>\n",
       "    .dataframe tbody tr th:only-of-type {\n",
       "        vertical-align: middle;\n",
       "    }\n",
       "\n",
       "    .dataframe tbody tr th {\n",
       "        vertical-align: top;\n",
       "    }\n",
       "\n",
       "    .dataframe thead th {\n",
       "        text-align: right;\n",
       "    }\n",
       "</style>\n",
       "<table border=\"1\" class=\"dataframe\">\n",
       "  <thead>\n",
       "    <tr style=\"text-align: right;\">\n",
       "      <th></th>\n",
       "      <th>DEPT</th>\n",
       "      <th>DEPTDESC</th>\n",
       "    </tr>\n",
       "  </thead>\n",
       "  <tbody>\n",
       "    <tr>\n",
       "      <th>0</th>\n",
       "      <td>800</td>\n",
       "      <td>CLINIQUE</td>\n",
       "    </tr>\n",
       "    <tr>\n",
       "      <th>1</th>\n",
       "      <td>801</td>\n",
       "      <td>LESLIE</td>\n",
       "    </tr>\n",
       "    <tr>\n",
       "      <th>2</th>\n",
       "      <td>1100</td>\n",
       "      <td>GARY F</td>\n",
       "    </tr>\n",
       "    <tr>\n",
       "      <th>3</th>\n",
       "      <td>1107</td>\n",
       "      <td>JACQUES</td>\n",
       "    </tr>\n",
       "    <tr>\n",
       "      <th>4</th>\n",
       "      <td>1202</td>\n",
       "      <td>CABERN</td>\n",
       "    </tr>\n",
       "  </tbody>\n",
       "</table>\n",
       "</div>"
      ],
      "text/plain": [
       "   DEPT  DEPTDESC\n",
       "0   800  CLINIQUE\n",
       "1   801  LESLIE  \n",
       "2  1100  GARY F  \n",
       "3  1107  JACQUES \n",
       "4  1202  CABERN  "
      ]
     },
     "execution_count": 40,
     "metadata": {},
     "output_type": "execute_result"
    }
   ],
   "source": [
    "dept = pd.read_csv(os.path.join(data_dir, 'deptinfo.csv'))\n",
    "print(dept.shape[0])\n",
    "dept.head()"
   ]
  },
  {
   "cell_type": "code",
   "execution_count": 41,
   "id": "9e6ac85c",
   "metadata": {},
   "outputs": [
    {
     "name": "stdout",
     "output_type": "stream",
     "text": [
      "DEPT int64\n",
      "DEPTDESC object\n"
     ]
    },
    {
     "data": {
      "text/plain": [
       "'MAI     '"
      ]
     },
     "execution_count": 41,
     "metadata": {},
     "output_type": "execute_result"
    }
   ],
   "source": [
    "for column in dept.columns:\n",
    "    print(column, dept[column].dtype)\n",
    "    \n",
    "dept['DEPTDESC'].unique().tolist()[10]"
   ]
  },
  {
   "cell_type": "code",
   "execution_count": 42,
   "id": "47566415",
   "metadata": {},
   "outputs": [],
   "source": [
    "dept['DEPTDESC'] = dept['DEPTDESC'].apply(lambda x : x.strip())\n",
    "dept.to_csv(os.path.join(cleaned_data_dir, 'deptinfo.csv'), index=False)"
   ]
  },
  {
   "cell_type": "markdown",
   "id": "f6e2709b",
   "metadata": {},
   "source": [
    "## skuinfo.csv"
   ]
  },
  {
   "cell_type": "code",
   "execution_count": 7,
   "id": "5d4f2bae",
   "metadata": {},
   "outputs": [
    {
     "data": {
      "text/html": [
       "<div>\n",
       "<style scoped>\n",
       "    .dataframe tbody tr th:only-of-type {\n",
       "        vertical-align: middle;\n",
       "    }\n",
       "\n",
       "    .dataframe tbody tr th {\n",
       "        vertical-align: top;\n",
       "    }\n",
       "\n",
       "    .dataframe thead th {\n",
       "        text-align: right;\n",
       "    }\n",
       "</style>\n",
       "<table border=\"1\" class=\"dataframe\">\n",
       "  <thead>\n",
       "    <tr style=\"text-align: right;\">\n",
       "      <th></th>\n",
       "      <th>SKU</th>\n",
       "      <th>DEPT</th>\n",
       "      <th>CLASSID</th>\n",
       "      <th>UPC</th>\n",
       "      <th>STYLE</th>\n",
       "      <th>COLOR</th>\n",
       "      <th>SIZE</th>\n",
       "      <th>PACKSIZE</th>\n",
       "      <th>VENDOR</th>\n",
       "      <th>BRAND</th>\n",
       "    </tr>\n",
       "  </thead>\n",
       "  <tbody>\n",
       "    <tr>\n",
       "      <th>0</th>\n",
       "      <td>3</td>\n",
       "      <td>6505</td>\n",
       "      <td>113</td>\n",
       "      <td>400000003000</td>\n",
       "      <td>00    F55KT2</td>\n",
       "      <td>WHISPERWHITE</td>\n",
       "      <td>P8EA</td>\n",
       "      <td>1</td>\n",
       "      <td>5119207</td>\n",
       "      <td>TURNBURY</td>\n",
       "    </tr>\n",
       "    <tr>\n",
       "      <th>1</th>\n",
       "      <td>4</td>\n",
       "      <td>8101</td>\n",
       "      <td>002</td>\n",
       "      <td>400000004000</td>\n",
       "      <td>22    615CZ4</td>\n",
       "      <td>SPEARMI</td>\n",
       "      <td>S</td>\n",
       "      <td>1</td>\n",
       "      <td>3311144</td>\n",
       "      <td>C A SPOR</td>\n",
       "    </tr>\n",
       "    <tr>\n",
       "      <th>2</th>\n",
       "      <td>5</td>\n",
       "      <td>7307</td>\n",
       "      <td>003</td>\n",
       "      <td>400000005000</td>\n",
       "      <td>7LBS  245-01</td>\n",
       "      <td>34 SILVER</td>\n",
       "      <td>KING</td>\n",
       "      <td>1</td>\n",
       "      <td>5510554</td>\n",
       "      <td>BEAU IDE</td>\n",
       "    </tr>\n",
       "    <tr>\n",
       "      <th>3</th>\n",
       "      <td>8</td>\n",
       "      <td>3404</td>\n",
       "      <td>00B</td>\n",
       "      <td>400000008000</td>\n",
       "      <td>622   F05H84</td>\n",
       "      <td>MORNING MI</td>\n",
       "      <td>2T</td>\n",
       "      <td>1</td>\n",
       "      <td>2912827</td>\n",
       "      <td>HARTSTRI</td>\n",
       "    </tr>\n",
       "    <tr>\n",
       "      <th>4</th>\n",
       "      <td>15</td>\n",
       "      <td>2301</td>\n",
       "      <td>004</td>\n",
       "      <td>400000015000</td>\n",
       "      <td>126   MDU461</td>\n",
       "      <td>255CAMEL</td>\n",
       "      <td>12</td>\n",
       "      <td>1</td>\n",
       "      <td>23272</td>\n",
       "      <td>JONES/LA</td>\n",
       "    </tr>\n",
       "  </tbody>\n",
       "</table>\n",
       "</div>"
      ],
      "text/plain": [
       "   SKU  DEPT CLASSID           UPC         STYLE         COLOR        SIZE   \n",
       "0    3  6505     113  400000003000  00    F55KT2  WHISPERWHITE  P8EA        \\\n",
       "1    4  8101     002  400000004000  22    615CZ4  SPEARMI       S            \n",
       "2    5  7307     003  400000005000  7LBS  245-01  34 SILVER     KING         \n",
       "3    8  3404     00B  400000008000  622   F05H84  MORNING MI    2T           \n",
       "4   15  2301     004  400000015000  126   MDU461  255CAMEL      12           \n",
       "\n",
       "   PACKSIZE   VENDOR      BRAND  \n",
       "0         1  5119207  TURNBURY   \n",
       "1         1  3311144  C A SPOR   \n",
       "2         1  5510554  BEAU IDE   \n",
       "3         1  2912827  HARTSTRI   \n",
       "4         1    23272  JONES/LA   "
      ]
     },
     "execution_count": 7,
     "metadata": {},
     "output_type": "execute_result"
    }
   ],
   "source": [
    "skuinfo = pd.read_csv(os.path.join(data_dir,'skuinfo.csv'))\n",
    "skuinfo.head()"
   ]
  },
  {
   "cell_type": "code",
   "execution_count": 47,
   "id": "109c8c2f",
   "metadata": {},
   "outputs": [
    {
     "name": "stdout",
     "output_type": "stream",
     "text": [
      "CLASSID\n",
      "STYLE\n",
      "COLOR\n",
      "SIZE\n",
      "BRAND\n"
     ]
    }
   ],
   "source": [
    "for column in skuinfo.columns:\n",
    "    #print(column, skuinfo[column].dtype)\n",
    "    if skuinfo[column].dtype == 'object':\n",
    "        print(column)\n",
    "        skuinfo[column] = skuinfo[column].apply(lambda x : x.strip())\n",
    "skuinfo.to_csv(os.path.join(cleaned_data_dir, 'skuinfo.csv'), index=False)"
   ]
  },
  {
   "cell_type": "code",
   "execution_count": 48,
   "id": "1ce088dc",
   "metadata": {},
   "outputs": [
    {
     "data": {
      "text/plain": [
       "(1556039, 10)"
      ]
     },
     "execution_count": 48,
     "metadata": {},
     "output_type": "execute_result"
    }
   ],
   "source": [
    "skuinfo.shape"
   ]
  },
  {
   "cell_type": "markdown",
   "id": "1a75b8e2",
   "metadata": {},
   "source": [
    "## skstinfo.csv"
   ]
  },
  {
   "cell_type": "code",
   "execution_count": 57,
   "id": "ca2995d6",
   "metadata": {},
   "outputs": [
    {
     "data": {
      "text/html": [
       "<div>\n",
       "<style scoped>\n",
       "    .dataframe tbody tr th:only-of-type {\n",
       "        vertical-align: middle;\n",
       "    }\n",
       "\n",
       "    .dataframe tbody tr th {\n",
       "        vertical-align: top;\n",
       "    }\n",
       "\n",
       "    .dataframe thead th {\n",
       "        text-align: right;\n",
       "    }\n",
       "</style>\n",
       "<table border=\"1\" class=\"dataframe\">\n",
       "  <thead>\n",
       "    <tr style=\"text-align: right;\">\n",
       "      <th></th>\n",
       "      <th>SKU</th>\n",
       "      <th>STORE</th>\n",
       "      <th>COST</th>\n",
       "      <th>RETAIL</th>\n",
       "    </tr>\n",
       "  </thead>\n",
       "  <tbody>\n",
       "    <tr>\n",
       "      <th>0</th>\n",
       "      <td>3</td>\n",
       "      <td>102</td>\n",
       "      <td>123.36</td>\n",
       "      <td>440.0</td>\n",
       "    </tr>\n",
       "    <tr>\n",
       "      <th>1</th>\n",
       "      <td>45</td>\n",
       "      <td>3504</td>\n",
       "      <td>20.66</td>\n",
       "      <td>59.0</td>\n",
       "    </tr>\n",
       "    <tr>\n",
       "      <th>2</th>\n",
       "      <td>45</td>\n",
       "      <td>8402</td>\n",
       "      <td>20.66</td>\n",
       "      <td>59.0</td>\n",
       "    </tr>\n",
       "    <tr>\n",
       "      <th>3</th>\n",
       "      <td>45</td>\n",
       "      <td>9304</td>\n",
       "      <td>20.66</td>\n",
       "      <td>59.0</td>\n",
       "    </tr>\n",
       "    <tr>\n",
       "      <th>4</th>\n",
       "      <td>78</td>\n",
       "      <td>3702</td>\n",
       "      <td>24.30</td>\n",
       "      <td>40.2</td>\n",
       "    </tr>\n",
       "  </tbody>\n",
       "</table>\n",
       "</div>"
      ],
      "text/plain": [
       "   SKU  STORE    COST  RETAIL\n",
       "0    3    102  123.36   440.0\n",
       "1   45   3504   20.66    59.0\n",
       "2   45   8402   20.66    59.0\n",
       "3   45   9304   20.66    59.0\n",
       "4   78   3702   24.30    40.2"
      ]
     },
     "execution_count": 57,
     "metadata": {},
     "output_type": "execute_result"
    }
   ],
   "source": [
    "skstinfo_sample = pd.read_csv(os.path.join(data_dir,'skstinfo_sample.csv'))\n",
    "skstinfo_sample.head()"
   ]
  },
  {
   "cell_type": "code",
   "execution_count": 62,
   "id": "f60a423d",
   "metadata": {},
   "outputs": [
    {
     "data": {
      "text/plain": [
       "['SKU', 'STORE', 'COST', 'RETAIL', 'TMP']"
      ]
     },
     "execution_count": 62,
     "metadata": {},
     "output_type": "execute_result"
    }
   ],
   "source": [
    "column_names = skstinfo_sample.columns.tolist()\n",
    "column_names.append('TMP')\n",
    "column_names"
   ]
  },
  {
   "cell_type": "code",
   "execution_count": 63,
   "id": "2f5b8836",
   "metadata": {},
   "outputs": [
    {
     "data": {
      "text/html": [
       "<div>\n",
       "<style scoped>\n",
       "    .dataframe tbody tr th:only-of-type {\n",
       "        vertical-align: middle;\n",
       "    }\n",
       "\n",
       "    .dataframe tbody tr th {\n",
       "        vertical-align: top;\n",
       "    }\n",
       "\n",
       "    .dataframe thead th {\n",
       "        text-align: right;\n",
       "    }\n",
       "</style>\n",
       "<table border=\"1\" class=\"dataframe\">\n",
       "  <thead>\n",
       "    <tr style=\"text-align: right;\">\n",
       "      <th></th>\n",
       "      <th>SKU</th>\n",
       "      <th>STORE</th>\n",
       "      <th>COST</th>\n",
       "      <th>RETAIL</th>\n",
       "      <th>TMP</th>\n",
       "    </tr>\n",
       "  </thead>\n",
       "  <tbody>\n",
       "    <tr>\n",
       "      <th>0</th>\n",
       "      <td>3</td>\n",
       "      <td>102</td>\n",
       "      <td>123.36</td>\n",
       "      <td>440.0</td>\n",
       "      <td>0</td>\n",
       "    </tr>\n",
       "    <tr>\n",
       "      <th>1</th>\n",
       "      <td>3</td>\n",
       "      <td>103</td>\n",
       "      <td>123.36</td>\n",
       "      <td>440.0</td>\n",
       "      <td>0</td>\n",
       "    </tr>\n",
       "    <tr>\n",
       "      <th>2</th>\n",
       "      <td>3</td>\n",
       "      <td>104</td>\n",
       "      <td>123.36</td>\n",
       "      <td>440.0</td>\n",
       "      <td>0</td>\n",
       "    </tr>\n",
       "    <tr>\n",
       "      <th>3</th>\n",
       "      <td>3</td>\n",
       "      <td>202</td>\n",
       "      <td>123.36</td>\n",
       "      <td>440.0</td>\n",
       "      <td>0</td>\n",
       "    </tr>\n",
       "    <tr>\n",
       "      <th>4</th>\n",
       "      <td>3</td>\n",
       "      <td>203</td>\n",
       "      <td>123.36</td>\n",
       "      <td>440.0</td>\n",
       "      <td>0</td>\n",
       "    </tr>\n",
       "  </tbody>\n",
       "</table>\n",
       "</div>"
      ],
      "text/plain": [
       "   SKU  STORE    COST  RETAIL  TMP\n",
       "0    3    102  123.36   440.0    0\n",
       "1    3    103  123.36   440.0    0\n",
       "2    3    104  123.36   440.0    0\n",
       "3    3    202  123.36   440.0    0\n",
       "4    3    203  123.36   440.0    0"
      ]
     },
     "execution_count": 63,
     "metadata": {},
     "output_type": "execute_result"
    }
   ],
   "source": [
    "skstinfo = pd.read_csv(\n",
    "    os.path.join(base_dir, 'Dillards POS', 'skstinfo.csv'), \n",
    "    names=column_names\n",
    "    )\n",
    "skstinfo.head()"
   ]
  },
  {
   "cell_type": "code",
   "execution_count": 64,
   "id": "154db237",
   "metadata": {},
   "outputs": [],
   "source": [
    "skstinfo.drop(['TMP'], axis=1, inplace=True)"
   ]
  },
  {
   "cell_type": "code",
   "execution_count": 65,
   "id": "c0baa035",
   "metadata": {},
   "outputs": [
    {
     "data": {
      "text/html": [
       "<div>\n",
       "<style scoped>\n",
       "    .dataframe tbody tr th:only-of-type {\n",
       "        vertical-align: middle;\n",
       "    }\n",
       "\n",
       "    .dataframe tbody tr th {\n",
       "        vertical-align: top;\n",
       "    }\n",
       "\n",
       "    .dataframe thead th {\n",
       "        text-align: right;\n",
       "    }\n",
       "</style>\n",
       "<table border=\"1\" class=\"dataframe\">\n",
       "  <thead>\n",
       "    <tr style=\"text-align: right;\">\n",
       "      <th></th>\n",
       "      <th>SKU</th>\n",
       "      <th>STORE</th>\n",
       "      <th>COST</th>\n",
       "      <th>RETAIL</th>\n",
       "    </tr>\n",
       "  </thead>\n",
       "  <tbody>\n",
       "    <tr>\n",
       "      <th>0</th>\n",
       "      <td>3</td>\n",
       "      <td>102</td>\n",
       "      <td>123.36</td>\n",
       "      <td>440.0</td>\n",
       "    </tr>\n",
       "    <tr>\n",
       "      <th>1</th>\n",
       "      <td>3</td>\n",
       "      <td>103</td>\n",
       "      <td>123.36</td>\n",
       "      <td>440.0</td>\n",
       "    </tr>\n",
       "    <tr>\n",
       "      <th>2</th>\n",
       "      <td>3</td>\n",
       "      <td>104</td>\n",
       "      <td>123.36</td>\n",
       "      <td>440.0</td>\n",
       "    </tr>\n",
       "    <tr>\n",
       "      <th>3</th>\n",
       "      <td>3</td>\n",
       "      <td>202</td>\n",
       "      <td>123.36</td>\n",
       "      <td>440.0</td>\n",
       "    </tr>\n",
       "    <tr>\n",
       "      <th>4</th>\n",
       "      <td>3</td>\n",
       "      <td>203</td>\n",
       "      <td>123.36</td>\n",
       "      <td>440.0</td>\n",
       "    </tr>\n",
       "  </tbody>\n",
       "</table>\n",
       "</div>"
      ],
      "text/plain": [
       "   SKU  STORE    COST  RETAIL\n",
       "0    3    102  123.36   440.0\n",
       "1    3    103  123.36   440.0\n",
       "2    3    104  123.36   440.0\n",
       "3    3    202  123.36   440.0\n",
       "4    3    203  123.36   440.0"
      ]
     },
     "execution_count": 65,
     "metadata": {},
     "output_type": "execute_result"
    }
   ],
   "source": [
    "skstinfo.head()"
   ]
  },
  {
   "cell_type": "code",
   "execution_count": 69,
   "id": "9dfc589e",
   "metadata": {},
   "outputs": [
    {
     "data": {
      "text/plain": [
       "(357, 760212)"
      ]
     },
     "execution_count": 69,
     "metadata": {},
     "output_type": "execute_result"
    }
   ],
   "source": [
    "skstinfo.STORE.unique().shape[0], skstinfo.SKU.unique().shape[0]"
   ]
  },
  {
   "cell_type": "code",
   "execution_count": 70,
   "id": "8609b7fc",
   "metadata": {},
   "outputs": [],
   "source": [
    "skstinfo.to_csv(os.path.join(cleaned_data_dir, 'skstinfo.csv'), index=False)"
   ]
  },
  {
   "cell_type": "code",
   "execution_count": 71,
   "id": "e3672626",
   "metadata": {},
   "outputs": [
    {
     "data": {
      "text/plain": [
       "39230146"
      ]
     },
     "execution_count": 71,
     "metadata": {},
     "output_type": "execute_result"
    }
   ],
   "source": [
    "skstinfo.shape[0]"
   ]
  },
  {
   "cell_type": "code",
   "execution_count": null,
   "id": "dce15c0d",
   "metadata": {},
   "outputs": [],
   "source": []
  }
 ],
 "metadata": {
  "kernelspec": {
   "display_name": "Python 3 (ipykernel)",
   "language": "python",
   "name": "python3"
  },
  "language_info": {
   "codemirror_mode": {
    "name": "ipython",
    "version": 3
   },
   "file_extension": ".py",
   "mimetype": "text/x-python",
   "name": "python",
   "nbconvert_exporter": "python",
   "pygments_lexer": "ipython3",
   "version": "3.10.13"
  }
 },
 "nbformat": 4,
 "nbformat_minor": 5
}
