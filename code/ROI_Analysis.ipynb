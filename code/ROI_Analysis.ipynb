{
 "cells": [
  {
   "cell_type": "code",
   "execution_count": 1,
   "id": "a5aeffea",
   "metadata": {},
   "outputs": [],
   "source": [
    "import pandas as pd"
   ]
  },
  {
   "cell_type": "code",
   "execution_count": 143,
   "id": "859c303f",
   "metadata": {},
   "outputs": [],
   "source": [
    "roi_df = pd.read_csv('final_roi_analysis_v2.csv')"
   ]
  },
  {
   "cell_type": "code",
   "execution_count": 94,
   "id": "9846dd09",
   "metadata": {},
   "outputs": [],
   "source": [
    "df = pd.read_csv('df_final_sku_store_quarter_noextinfo.csv')"
   ]
  },
  {
   "cell_type": "code",
   "execution_count": 142,
   "id": "b0245a4d",
   "metadata": {},
   "outputs": [],
   "source": [
    "df = df[['STORE', 'SKU', 'COST']]"
   ]
  },
  {
   "cell_type": "code",
   "execution_count": 144,
   "id": "cef1891c",
   "metadata": {},
   "outputs": [],
   "source": [
    "roi_df_merged = df.merge(roi_df, on = ['SKU', 'STORE'])"
   ]
  },
  {
   "cell_type": "code",
   "execution_count": 152,
   "id": "d9bea152",
   "metadata": {},
   "outputs": [],
   "source": [
    "#filter for SKUs that has revenue in the previous quarter\n",
    "roi_filtered = roi_df_merged[(roi_df_merged['base_line'].notnull()) & (roi_filtered['averagesellingprice'] != 0) ]"
   ]
  },
  {
   "cell_type": "code",
   "execution_count": 153,
   "id": "68d85d69",
   "metadata": {},
   "outputs": [
    {
     "name": "stderr",
     "output_type": "stream",
     "text": [
      "/var/folders/0n/jt9yc0v96tg4w5vx0mvqft540000gn/T/ipykernel_70626/520522020.py:1: SettingWithCopyWarning: \n",
      "A value is trying to be set on a copy of a slice from a DataFrame.\n",
      "Try using .loc[row_indexer,col_indexer] = value instead\n",
      "\n",
      "See the caveats in the documentation: https://pandas.pydata.org/pandas-docs/stable/user_guide/indexing.html#returning-a-view-versus-a-copy\n",
      "  roi_filtered['totalcost_actual'] = roi_filtered['totalunitssold'] * roi_filtered['COST']\n",
      "/var/folders/0n/jt9yc0v96tg4w5vx0mvqft540000gn/T/ipykernel_70626/520522020.py:2: SettingWithCopyWarning: \n",
      "A value is trying to be set on a copy of a slice from a DataFrame.\n",
      "Try using .loc[row_indexer,col_indexer] = value instead\n",
      "\n",
      "See the caveats in the documentation: https://pandas.pydata.org/pandas-docs/stable/user_guide/indexing.html#returning-a-view-versus-a-copy\n",
      "  roi_filtered['totalcost_baseline'] = roi_filtered['base_line'] / roi_filtered['averagesellingprice'] * roi_filtered['COST']\n",
      "/var/folders/0n/jt9yc0v96tg4w5vx0mvqft540000gn/T/ipykernel_70626/520522020.py:3: SettingWithCopyWarning: \n",
      "A value is trying to be set on a copy of a slice from a DataFrame.\n",
      "Try using .loc[row_indexer,col_indexer] = value instead\n",
      "\n",
      "See the caveats in the documentation: https://pandas.pydata.org/pandas-docs/stable/user_guide/indexing.html#returning-a-view-versus-a-copy\n",
      "  roi_filtered['totalcost_model'] = roi_filtered['pred_revenue'] / roi_filtered['averagesellingprice'] * roi_filtered['COST']\n"
     ]
    },
    {
     "data": {
      "text/html": [
       "<div>\n",
       "<style scoped>\n",
       "    .dataframe tbody tr th:only-of-type {\n",
       "        vertical-align: middle;\n",
       "    }\n",
       "\n",
       "    .dataframe tbody tr th {\n",
       "        vertical-align: top;\n",
       "    }\n",
       "\n",
       "    .dataframe thead th {\n",
       "        text-align: right;\n",
       "    }\n",
       "</style>\n",
       "<table border=\"1\" class=\"dataframe\">\n",
       "  <thead>\n",
       "    <tr style=\"text-align: right;\">\n",
       "      <th></th>\n",
       "      <th>STORE</th>\n",
       "      <th>SKU</th>\n",
       "      <th>COST</th>\n",
       "      <th>index</th>\n",
       "      <th>year</th>\n",
       "      <th>quarter</th>\n",
       "      <th>revenue</th>\n",
       "      <th>pred_log_revenue</th>\n",
       "      <th>pred_revenue</th>\n",
       "      <th>base_line</th>\n",
       "      <th>totalunitssold</th>\n",
       "      <th>averageoriginalprice</th>\n",
       "      <th>averagesellingprice</th>\n",
       "      <th>totalcost_actual</th>\n",
       "      <th>totalcost_baseline</th>\n",
       "      <th>totalcost_model</th>\n",
       "    </tr>\n",
       "  </thead>\n",
       "  <tbody>\n",
       "    <tr>\n",
       "      <th>50</th>\n",
       "      <td>102</td>\n",
       "      <td>8224</td>\n",
       "      <td>10.14</td>\n",
       "      <td>31</td>\n",
       "      <td>2005</td>\n",
       "      <td>Q3</td>\n",
       "      <td>32.00</td>\n",
       "      <td>3.787999</td>\n",
       "      <td>43.167928</td>\n",
       "      <td>32.0</td>\n",
       "      <td>2</td>\n",
       "      <td>32.0</td>\n",
       "      <td>16.00</td>\n",
       "      <td>20.28</td>\n",
       "      <td>20.280000</td>\n",
       "      <td>27.357674</td>\n",
       "    </tr>\n",
       "    <tr>\n",
       "      <th>52</th>\n",
       "      <td>102</td>\n",
       "      <td>8224</td>\n",
       "      <td>10.14</td>\n",
       "      <td>31</td>\n",
       "      <td>2005</td>\n",
       "      <td>Q3</td>\n",
       "      <td>32.00</td>\n",
       "      <td>3.787999</td>\n",
       "      <td>43.167928</td>\n",
       "      <td>32.0</td>\n",
       "      <td>2</td>\n",
       "      <td>32.0</td>\n",
       "      <td>16.00</td>\n",
       "      <td>20.28</td>\n",
       "      <td>20.280000</td>\n",
       "      <td>27.357674</td>\n",
       "    </tr>\n",
       "    <tr>\n",
       "      <th>59</th>\n",
       "      <td>102</td>\n",
       "      <td>9019</td>\n",
       "      <td>12.50</td>\n",
       "      <td>38</td>\n",
       "      <td>2005</td>\n",
       "      <td>Q3</td>\n",
       "      <td>16.98</td>\n",
       "      <td>3.836950</td>\n",
       "      <td>45.383802</td>\n",
       "      <td>102.0</td>\n",
       "      <td>2</td>\n",
       "      <td>34.0</td>\n",
       "      <td>8.49</td>\n",
       "      <td>25.00</td>\n",
       "      <td>150.176682</td>\n",
       "      <td>66.819498</td>\n",
       "    </tr>\n",
       "    <tr>\n",
       "      <th>61</th>\n",
       "      <td>102</td>\n",
       "      <td>9019</td>\n",
       "      <td>12.50</td>\n",
       "      <td>38</td>\n",
       "      <td>2005</td>\n",
       "      <td>Q3</td>\n",
       "      <td>16.98</td>\n",
       "      <td>3.836950</td>\n",
       "      <td>45.383802</td>\n",
       "      <td>102.0</td>\n",
       "      <td>2</td>\n",
       "      <td>34.0</td>\n",
       "      <td>8.49</td>\n",
       "      <td>25.00</td>\n",
       "      <td>150.176682</td>\n",
       "      <td>66.819498</td>\n",
       "    </tr>\n",
       "    <tr>\n",
       "      <th>67</th>\n",
       "      <td>102</td>\n",
       "      <td>9633</td>\n",
       "      <td>13.50</td>\n",
       "      <td>44</td>\n",
       "      <td>2005</td>\n",
       "      <td>Q3</td>\n",
       "      <td>157.50</td>\n",
       "      <td>5.080640</td>\n",
       "      <td>159.876958</td>\n",
       "      <td>189.0</td>\n",
       "      <td>7</td>\n",
       "      <td>22.5</td>\n",
       "      <td>22.50</td>\n",
       "      <td>94.50</td>\n",
       "      <td>113.400000</td>\n",
       "      <td>95.926175</td>\n",
       "    </tr>\n",
       "  </tbody>\n",
       "</table>\n",
       "</div>"
      ],
      "text/plain": [
       "    STORE   SKU   COST  index  year quarter  revenue  pred_log_revenue  \\\n",
       "50    102  8224  10.14     31  2005      Q3    32.00          3.787999   \n",
       "52    102  8224  10.14     31  2005      Q3    32.00          3.787999   \n",
       "59    102  9019  12.50     38  2005      Q3    16.98          3.836950   \n",
       "61    102  9019  12.50     38  2005      Q3    16.98          3.836950   \n",
       "67    102  9633  13.50     44  2005      Q3   157.50          5.080640   \n",
       "\n",
       "    pred_revenue  base_line  totalunitssold  averageoriginalprice  \\\n",
       "50     43.167928       32.0               2                  32.0   \n",
       "52     43.167928       32.0               2                  32.0   \n",
       "59     45.383802      102.0               2                  34.0   \n",
       "61     45.383802      102.0               2                  34.0   \n",
       "67    159.876958      189.0               7                  22.5   \n",
       "\n",
       "    averagesellingprice  totalcost_actual  totalcost_baseline  totalcost_model  \n",
       "50                16.00             20.28           20.280000        27.357674  \n",
       "52                16.00             20.28           20.280000        27.357674  \n",
       "59                 8.49             25.00          150.176682        66.819498  \n",
       "61                 8.49             25.00          150.176682        66.819498  \n",
       "67                22.50             94.50          113.400000        95.926175  "
      ]
     },
     "execution_count": 153,
     "metadata": {},
     "output_type": "execute_result"
    }
   ],
   "source": [
    "roi_filtered['totalcost_actual'] = roi_filtered['totalunitssold'] * roi_filtered['COST']\n",
    "roi_filtered['totalcost_baseline'] = roi_filtered['base_line'] / roi_filtered['averagesellingprice'] * roi_filtered['COST'] \n",
    "roi_filtered['totalcost_model'] = roi_filtered['pred_revenue'] / roi_filtered['averagesellingprice'] * roi_filtered['COST'] \n",
    "roi_filtered_quarter.head()"
   ]
  },
  {
   "cell_type": "code",
   "execution_count": 157,
   "id": "05d3970b",
   "metadata": {},
   "outputs": [
    {
     "data": {
      "image/png": "[encoded data removed]",
      "text/plain": [
       "<Figure size 720x432 with 1 Axes>"
      ]
     },
     "metadata": {
      "needs_background": "light"
     },
     "output_type": "display_data"
    },
    {
     "data": {
      "image/png": "[encoded data removed]",
      "text/plain": [
       "<Figure size 864x432 with 1 Axes>"
      ]
     },
     "metadata": {
      "needs_background": "light"
     },
     "output_type": "display_data"
    },
    {
     "data": {
      "image/png": "[encoded data removed]",
      "text/plain": [
       "<Figure size 864x432 with 1 Axes>"
      ]
     },
     "metadata": {
      "needs_background": "light"
     },
     "output_type": "display_data"
    },
    {
     "data": {
      "image/png": "[encoded data removed]",
      "text/plain": [
       "<Figure size 864x432 with 1 Axes>"
      ]
     },
     "metadata": {
      "needs_background": "light"
     },
     "output_type": "display_data"
    }
   ],
   "source": [
    "import pandas as pd\n",
    "import matplotlib.pyplot as plt\n",
    "import numpy as np\n",
    "\n",
    "# Load the data\n",
    "roi_df = pd.read_csv('final_roi_analysis.csv')\n",
    "\n",
    "# Define the list of quarters and years you want to analyze\n",
    "quarters_years = [\n",
    "    (2005, 'Q1'),\n",
    "    (2005, 'Q2'),\n",
    "    (2005, 'Q3')\n",
    "]\n",
    "\n",
    "# Initialize lists to store results for each measurement\n",
    "num_items_oversold_pred = []\n",
    "dollar_savings_pred = []\n",
    "num_items_oversold_baseline = []\n",
    "dollar_savings_baseline = []\n",
    "actual_revenues=[]\n",
    "predicted_revenues=[]\n",
    "baseline_revenues = []\n",
    "cost_savings_baseline = []\n",
    "cost_savings_pred = []\n",
    "\n",
    "# Iterate through each quarter and year\n",
    "for year, quarter in quarters_years:\n",
    "    roi_filtered_quarter = roi_filtered[(roi_filtered.year == year) & (roi_filtered.quarter == quarter)]\n",
    "    \n",
    "    \n",
    "     # Measurement 1: Total Revenue Prediction\n",
    "    actual = roi_filtered_quarter.revenue.sum()\n",
    "    predict = roi_filtered_quarter.pred_revenue.sum()\n",
    "    baseline = roi_filtered_quarter.base_line.sum()\n",
    "    \n",
    "    actual_revenues.append(actual)\n",
    "    predicted_revenues.append(predict)\n",
    "    baseline_revenues.append(baseline)\n",
    "    \n",
    "    \n",
    "    # Measurement 2: Number of Items Oversold\n",
    "    filtered_df_pred = roi_filtered_quarter[roi_filtered_quarter['pred_revenue'] > roi_filtered_quarter['revenue']]\n",
    "    num_items_pred = len(filtered_df_pred)\n",
    "    num_items_oversold_pred.append(num_items_pred)\n",
    "    \n",
    "    filtered_df_baseline = roi_filtered_quarter[roi_filtered_quarter['base_line'] > roi_filtered_quarter['revenue']]\n",
    "    num_items_baseline = len(filtered_df_baseline)\n",
    "    num_items_oversold_baseline.append(num_items_baseline)\n",
    "    \n",
    "    # Measurement 3: Dollar Savings from Overstocked Items\n",
    "    dollar_saving_pred = (filtered_df_pred['pred_revenue'] - filtered_df_pred['revenue']).sum()\n",
    "    dollar_savings_pred.append(dollar_saving_pred)\n",
    "    \n",
    "    dollar_saving_baseline = (filtered_df_baseline['base_line'] - filtered_df_baseline['revenue']).sum()\n",
    "    dollar_savings_baseline.append(dollar_saving_baseline)\n",
    "    \n",
    "    \n",
    "    # Measurement 4: Cost Savings from Overstocked Items\n",
    "    cost_saving_pred = (filtered_df_pred['totalcost_model'] - filtered_df_pred['totalcost_actual']).sum()\n",
    "    cost_savings_pred.append(cost_saving_pred)\n",
    "    \n",
    "    cost_saving_baseline = (filtered_df_baseline['totalcost_baseline'] - filtered_df_baseline['totalcost_actual']).sum()\n",
    "    cost_savings_baseline.append(cost_saving_baseline)\n",
    "\n",
    "\n",
    "    \n",
    "# Measurement 1: Total Revenue Prediction\n",
    "plt.figure(figsize=(10, 6))\n",
    "plt.plot([f'{year} {quarter}' for year, quarter in quarters_years], actual_revenues, label='Actual Revenue')\n",
    "plt.plot([f'{year} {quarter}' for year, quarter in quarters_years], predicted_revenues, label='Model Revenue')\n",
    "plt.plot([f'{year} {quarter}' for year, quarter in quarters_years], baseline_revenues, label='Baseline Revenue')\n",
    "plt.title('Measurement 1: Total Revenue Prediction')\n",
    "plt.xlabel('Quarter and Year')\n",
    "plt.ylabel('Revenue')\n",
    "plt.legend()\n",
    "plt.xticks(rotation=45)\n",
    "plt.tight_layout()\n",
    "plt.show()\n",
    "\n",
    "\n",
    "# Create grouped bar charts for Measurement 2: Number of Items Oversold\n",
    "bar_width = 0.35\n",
    "index = np.arange(len(quarters_years))\n",
    "plt.figure(figsize=(12, 6))\n",
    "plt.bar(index - bar_width/2, num_items_oversold_pred, bar_width, label='Model Oversold')\n",
    "plt.bar(index + bar_width/2, num_items_oversold_baseline, bar_width, label='Baseline Oversold')\n",
    "plt.xlabel('Quarter and Year')\n",
    "plt.ylabel('Number of Items Oversold')\n",
    "plt.title('Measurement 2: Number of Items Oversold')\n",
    "plt.xticks(index, [f'{year} {quarter}' for year, quarter in quarters_years], rotation=45)\n",
    "plt.legend()\n",
    "plt.tight_layout()\n",
    "plt.show()\n",
    "\n",
    "# Create grouped bar charts for Measurement 3: Dollar Savings from Overstocked Items\n",
    "plt.figure(figsize=(12, 6))\n",
    "plt.bar(index - bar_width/2, dollar_savings_pred, bar_width, label='Model Waste')\n",
    "plt.bar(index + bar_width/2, dollar_savings_baseline, bar_width, label='Baseline Waste')\n",
    "plt.xlabel('Quarter and Year')\n",
    "plt.ylabel('Dollar Wasted')\n",
    "plt.title('Measurement 3: Dollar Wasted from Overstocked Items')\n",
    "plt.xticks(index, [f'{year} {quarter}' for year, quarter in quarters_years], rotation=45)\n",
    "plt.legend()\n",
    "plt.tight_layout()\n",
    "plt.show()\n",
    "\n",
    "\n",
    "\n",
    "# Create grouped bar charts for Measurement 4: Cost Savings from Overstocked Items\n",
    "plt.figure(figsize=(12, 6))\n",
    "plt.bar(index - bar_width/2, cost_savings_pred, bar_width, label='Model Waste')\n",
    "plt.bar(index + bar_width/2, cost_savings_baseline, bar_width, label='Baseline Waste')\n",
    "plt.xlabel('Quarter and Year')\n",
    "plt.ylabel('Amount Saved')\n",
    "plt.title('Measurement 4: Cost Wasted from Overstocked Items')\n",
    "plt.xticks(index, [f'{year} {quarter}' for year, quarter in quarters_years], rotation=45)\n",
    "plt.legend()\n",
    "plt.tight_layout()\n",
    "plt.show()\n"
   ]
  },
  {
   "cell_type": "code",
   "execution_count": 158,
   "id": "b92cee99",
   "metadata": {},
   "outputs": [
    {
     "data": {
      "text/plain": [
       "[24200662.62739277, 22195389.20390925, 34247515.51827771]"
      ]
     },
     "execution_count": 158,
     "metadata": {},
     "output_type": "execute_result"
    }
   ],
   "source": [
    "dollar_savings_pred"
   ]
  },
  {
   "cell_type": "code",
   "execution_count": 159,
   "id": "f9cd1b40",
   "metadata": {},
   "outputs": [
    {
     "data": {
      "text/plain": [
       "[110886172.91126722, 41809550.23943114, 98901758.65143567]"
      ]
     },
     "execution_count": 159,
     "metadata": {},
     "output_type": "execute_result"
    }
   ],
   "source": [
    "dollar_savings_baseline"
   ]
  },
  {
   "cell_type": "code",
   "execution_count": 160,
   "id": "89c1ca0d",
   "metadata": {},
   "outputs": [
    {
     "data": {
      "text/plain": [
       "[602821, 531513, 667511]"
      ]
     },
     "execution_count": 160,
     "metadata": {},
     "output_type": "execute_result"
    }
   ],
   "source": [
    "num_items_oversold_pred"
   ]
  },
  {
   "cell_type": "code",
   "execution_count": 161,
   "id": "e3c92c3d",
   "metadata": {},
   "outputs": [
    {
     "data": {
      "text/plain": [
       "[787487, 495300, 771773]"
      ]
     },
     "execution_count": 161,
     "metadata": {},
     "output_type": "execute_result"
    }
   ],
   "source": [
    "num_items_oversold_baseline"
   ]
  },
  {
   "cell_type": "code",
   "execution_count": 163,
   "id": "7441ae20",
   "metadata": {},
   "outputs": [
    {
     "data": {
      "text/plain": [
       "[16994058.814582378, 15722645.722436724, 23370498.246117447]"
      ]
     },
     "execution_count": 163,
     "metadata": {},
     "output_type": "execute_result"
    }
   ],
   "source": [
    "cost_savings_pred"
   ]
  },
  {
   "cell_type": "code",
   "execution_count": 162,
   "id": "4ed665c8",
   "metadata": {},
   "outputs": [
    {
     "data": {
      "text/plain": [
       "[74237161.4888357, 33674632.59464751, 65538834.16604572]"
      ]
     },
     "execution_count": 162,
     "metadata": {},
     "output_type": "execute_result"
    }
   ],
   "source": [
    "cost_savings_baseline"
   ]
  },
  {
   "cell_type": "code",
   "execution_count": null,
   "id": "dbe3d854",
   "metadata": {},
   "outputs": [],
   "source": []
  }
 ],
 "metadata": {
  "kernelspec": {
   "display_name": "Python 3 (ipykernel)",
   "language": "python",
   "name": "python3"
  },
  "language_info": {
   "codemirror_mode": {
    "name": "ipython",
    "version": 3
   },
   "file_extension": ".py",
   "mimetype": "text/x-python",
   "name": "python",
   "nbconvert_exporter": "python",
   "pygments_lexer": "ipython3",
   "version": "3.9.7"
  }
 },
 "nbformat": 4,
 "nbformat_minor": 5
}
