{
 "cells": [
  {
   "cell_type": "code",
   "execution_count": 1,
   "id": "622f87c3",
   "metadata": {},
   "outputs": [],
   "source": [
    "import pandas as pd\n",
    "import os\n",
    "import random"
   ]
  },
  {
   "cell_type": "code",
   "execution_count": 2,
   "id": "7d95dc86",
   "metadata": {},
   "outputs": [],
   "source": [
    "parent_data_dir = os.path.join(os.getcwd(), 'Dillards POS')\n",
    "final_data_dir = os.path.join(os.getcwd(), 'final_data')\n",
    "os.makedirs(final_data_dir, exist_ok=True)"
   ]
  },
  {
   "cell_type": "code",
   "execution_count": 5,
   "id": "59bd6c4a",
   "metadata": {},
   "outputs": [
    {
     "name": "stdout",
     "output_type": "stream",
     "text": [
      "60\n"
     ]
    }
   ],
   "source": [
    "# deptinfo.csv\n",
    "df_dept = pd.read_csv(os.path.join(parent_data_dir,'deptinfo.csv'), names=['DEPT','DEPTDESC','TMP'])\n",
    "df_dept.drop(columns=['TMP'], axis=1, inplace=True)\n",
    "\n",
    "print(df_dept.shape[0])\n",
    "df_dept.head()\n",
    "\n",
    "\n",
    "df_dept.to_csv(os.path.join(final_data_dir,'deptinfo.csv'), index=False)"
   ]
  },
  {
   "cell_type": "code",
   "execution_count": 7,
   "id": "1090d131",
   "metadata": {},
   "outputs": [
    {
     "name": "stdout",
     "output_type": "stream",
     "text": [
      "Original Number of Lines : 39230146\n",
      "Final Shape : 392301\n"
     ]
    }
   ],
   "source": [
    "# skstinfo.csv\n",
    "data_path = os.path.join(parent_data_dir,'skstinfo.csv')\n",
    "headers = ['SKU','STORE','COST','RETAIL','TMP']\n",
    "num_lines = sum(1 for l in open(data_path))\n",
    "print(\"Original Number of Lines : {}\".format(num_lines))\n",
    "\n",
    "# Sample size \n",
    "size = int(num_lines / 100)\n",
    "\n",
    "# The row indices to skip - make sure 0 is not included to keep the header!\n",
    "skip_idx = random.sample(range(1, num_lines), num_lines - size)\n",
    "\n",
    "# Read the data\n",
    "df_skst_info = pd.read_csv(data_path, skiprows=skip_idx, names=headers)\n",
    "df_skst_info.drop(columns=['TMP'], axis=1, inplace=True)\n",
    "print(\"Final Shape : {}\".format(df_skst_info.shape[0]))\n",
    "\n",
    "\n",
    "df_skst_info.to_csv(os.path.join(final_data_dir,'skstinfo_sample.csv'), index=False)"
   ]
  },
  {
   "cell_type": "code",
   "execution_count": 9,
   "id": "d1c0aa35",
   "metadata": {},
   "outputs": [
    {
     "name": "stdout",
     "output_type": "stream",
     "text": [
      "Original Number of Lines : 120916896\n",
      "Final Shape : 1209168\n"
     ]
    }
   ],
   "source": [
    "# trnsact.csv\n",
    "headers = ['SKU','STORE','REGISTER','TRANNUM',\n",
    "           'SALEDATE','SEQ','INTERID',\n",
    "           'STYPE','QUANTITY','ORGPRICE',\n",
    "           'AMT','MIC','TMP'\n",
    "          ]\n",
    "data_path = os.path.join(parent_data_dir,'trnsact.csv')\n",
    "num_lines = sum(1 for l in open(data_path))\n",
    "print(\"Original Number of Lines : {}\".format(num_lines))\n",
    "\n",
    "size = int(num_lines / 100)\n",
    "\n",
    "# The row indices to skip - make sure 0 is not included to keep the header!\n",
    "skip_idx = random.sample(range(1, num_lines), num_lines - size)\n",
    "df_trans = pd.read_csv(data_path, skiprows=skip_idx, names=headers)\n",
    "df_trans.drop(columns=['TMP'], axis=1, inplace=True)\n",
    "print(\"Final Shape : {}\".format(df_trans.shape[0]))\n",
    "\n",
    "df_trans.to_csv(os.path.join(final_data_dir,'trnsact_sample.csv'), index=False)"
   ]
  },
  {
   "cell_type": "code",
   "execution_count": 32,
   "id": "c68abf60",
   "metadata": {},
   "outputs": [
    {
     "name": "stdout",
     "output_type": "stream",
     "text": [
      "1556039\n"
     ]
    },
    {
     "data": {
      "text/html": [
       "<div>\n",
       "<style scoped>\n",
       "    .dataframe tbody tr th:only-of-type {\n",
       "        vertical-align: middle;\n",
       "    }\n",
       "\n",
       "    .dataframe tbody tr th {\n",
       "        vertical-align: top;\n",
       "    }\n",
       "\n",
       "    .dataframe thead th {\n",
       "        text-align: right;\n",
       "    }\n",
       "</style>\n",
       "<table border=\"1\" class=\"dataframe\">\n",
       "  <thead>\n",
       "    <tr style=\"text-align: right;\">\n",
       "      <th></th>\n",
       "      <th>SKU</th>\n",
       "      <th>DEPT</th>\n",
       "      <th>CLASSID</th>\n",
       "      <th>UPC</th>\n",
       "      <th>STYLE</th>\n",
       "      <th>COLOR</th>\n",
       "      <th>SIZE</th>\n",
       "      <th>PACKSIZE</th>\n",
       "      <th>VENDOR</th>\n",
       "      <th>BRAND</th>\n",
       "    </tr>\n",
       "  </thead>\n",
       "  <tbody>\n",
       "    <tr>\n",
       "      <th>0</th>\n",
       "      <td>3</td>\n",
       "      <td>6505</td>\n",
       "      <td>113</td>\n",
       "      <td>400000003000</td>\n",
       "      <td>00    F55KT2</td>\n",
       "      <td>WHISPERWHITE</td>\n",
       "      <td>P8EA</td>\n",
       "      <td>1</td>\n",
       "      <td>5119207</td>\n",
       "      <td>TURNBURY</td>\n",
       "    </tr>\n",
       "    <tr>\n",
       "      <th>1</th>\n",
       "      <td>4</td>\n",
       "      <td>8101</td>\n",
       "      <td>002</td>\n",
       "      <td>400000004000</td>\n",
       "      <td>22    615CZ4</td>\n",
       "      <td>SPEARMI</td>\n",
       "      <td>S</td>\n",
       "      <td>1</td>\n",
       "      <td>3311144</td>\n",
       "      <td>C A SPOR</td>\n",
       "    </tr>\n",
       "    <tr>\n",
       "      <th>2</th>\n",
       "      <td>5</td>\n",
       "      <td>7307</td>\n",
       "      <td>003</td>\n",
       "      <td>400000005000</td>\n",
       "      <td>7LBS  245-01</td>\n",
       "      <td>34 SILVER</td>\n",
       "      <td>KING</td>\n",
       "      <td>1</td>\n",
       "      <td>5510554</td>\n",
       "      <td>BEAU IDE</td>\n",
       "    </tr>\n",
       "    <tr>\n",
       "      <th>3</th>\n",
       "      <td>8</td>\n",
       "      <td>3404</td>\n",
       "      <td>00B</td>\n",
       "      <td>400000008000</td>\n",
       "      <td>622   F05H84</td>\n",
       "      <td>MORNING MI</td>\n",
       "      <td>2T</td>\n",
       "      <td>1</td>\n",
       "      <td>2912827</td>\n",
       "      <td>HARTSTRI</td>\n",
       "    </tr>\n",
       "    <tr>\n",
       "      <th>4</th>\n",
       "      <td>15</td>\n",
       "      <td>2301</td>\n",
       "      <td>004</td>\n",
       "      <td>400000015000</td>\n",
       "      <td>126   MDU461</td>\n",
       "      <td>255CAMEL</td>\n",
       "      <td>12</td>\n",
       "      <td>1</td>\n",
       "      <td>23272</td>\n",
       "      <td>JONES/LA</td>\n",
       "    </tr>\n",
       "  </tbody>\n",
       "</table>\n",
       "</div>"
      ],
      "text/plain": [
       "   SKU  DEPT CLASSID           UPC         STYLE         COLOR        SIZE   \n",
       "0    3  6505     113  400000003000  00    F55KT2  WHISPERWHITE  P8EA        \\\n",
       "1    4  8101     002  400000004000  22    615CZ4  SPEARMI       S            \n",
       "2    5  7307     003  400000005000  7LBS  245-01  34 SILVER     KING         \n",
       "3    8  3404     00B  400000008000  622   F05H84  MORNING MI    2T           \n",
       "4   15  2301     004  400000015000  126   MDU461  255CAMEL      12           \n",
       "\n",
       "   PACKSIZE   VENDOR      BRAND  \n",
       "0         1  5119207  TURNBURY   \n",
       "1         1  3311144  C A SPOR   \n",
       "2         1  5510554  BEAU IDE   \n",
       "3         1  2912827  HARTSTRI   \n",
       "4         1    23272  JONES/LA   "
      ]
     },
     "execution_count": 32,
     "metadata": {},
     "output_type": "execute_result"
    }
   ],
   "source": [
    "# skuinfo.csv\n",
    "data_path = os.path.join(parent_data_dir, 'skuinfo.csv')\n",
    "\n",
    "skip_index_list = []\n",
    "for idx, line in enumerate(open(data_path)):\n",
    "    if len(line.split(',')) != 11:\n",
    "        skip_index_list.append(idx)\n",
    "len(skip_index_list)\n",
    "\n",
    "headers = ['SKU','DEPT', 'CLASSID','UPC','STYLE','COLOR','SIZE','PACKSIZE','VENDOR','BRAND','TMP']\n",
    "df_skuinfo = pd.read_csv(data_path, skiprows = skip_index_list, names = headers)\n",
    "\n",
    "df_skuinfo.drop(columns=['TMP'],axis=1, inplace=True)\n",
    "print(df_skuinfo.shape[0])\n",
    "\n",
    "df_skuinfo.to_csv(os.path.join(final_data_dir, 'skuinfo.csv'), index=False)\n",
    "\n",
    "df_skuinfo.head()"
   ]
  },
  {
   "cell_type": "code",
   "execution_count": 20,
   "id": "fbcbcde4",
   "metadata": {},
   "outputs": [
    {
     "name": "stdout",
     "output_type": "stream",
     "text": [
      "453\n"
     ]
    },
    {
     "data": {
      "text/html": [
       "<div>\n",
       "<style scoped>\n",
       "    .dataframe tbody tr th:only-of-type {\n",
       "        vertical-align: middle;\n",
       "    }\n",
       "\n",
       "    .dataframe tbody tr th {\n",
       "        vertical-align: top;\n",
       "    }\n",
       "\n",
       "    .dataframe thead th {\n",
       "        text-align: right;\n",
       "    }\n",
       "</style>\n",
       "<table border=\"1\" class=\"dataframe\">\n",
       "  <thead>\n",
       "    <tr style=\"text-align: right;\">\n",
       "      <th></th>\n",
       "      <th>STORE</th>\n",
       "      <th>CITY</th>\n",
       "      <th>STATE</th>\n",
       "      <th>ZIP</th>\n",
       "    </tr>\n",
       "  </thead>\n",
       "  <tbody>\n",
       "    <tr>\n",
       "      <th>0</th>\n",
       "      <td>2</td>\n",
       "      <td>ST. PETERSBURG</td>\n",
       "      <td>FL</td>\n",
       "      <td>33710</td>\n",
       "    </tr>\n",
       "    <tr>\n",
       "      <th>1</th>\n",
       "      <td>3</td>\n",
       "      <td>ST. LOUIS</td>\n",
       "      <td>MO</td>\n",
       "      <td>63126</td>\n",
       "    </tr>\n",
       "    <tr>\n",
       "      <th>2</th>\n",
       "      <td>4</td>\n",
       "      <td>LITTLE ROCK</td>\n",
       "      <td>AR</td>\n",
       "      <td>72201</td>\n",
       "    </tr>\n",
       "    <tr>\n",
       "      <th>3</th>\n",
       "      <td>7</td>\n",
       "      <td>FORT WORTH</td>\n",
       "      <td>TX</td>\n",
       "      <td>76137</td>\n",
       "    </tr>\n",
       "    <tr>\n",
       "      <th>4</th>\n",
       "      <td>9</td>\n",
       "      <td>TEMPE</td>\n",
       "      <td>AZ</td>\n",
       "      <td>85281</td>\n",
       "    </tr>\n",
       "  </tbody>\n",
       "</table>\n",
       "</div>"
      ],
      "text/plain": [
       "   STORE                  CITY STATE    ZIP\n",
       "0      2  ST. PETERSBURG          FL  33710\n",
       "1      3  ST. LOUIS               MO  63126\n",
       "2      4  LITTLE ROCK             AR  72201\n",
       "3      7  FORT WORTH              TX  76137\n",
       "4      9  TEMPE                   AZ  85281"
      ]
     },
     "execution_count": 20,
     "metadata": {},
     "output_type": "execute_result"
    }
   ],
   "source": [
    "# strinfo.csv\n",
    "data_path =  os.path.join(parent_data_dir, 'strinfo.csv')\n",
    "headers = ['STORE', 'CITY', 'STATE', 'ZIP', 'TMP']\n",
    "df_strinfo = pd.read_csv(data_path, names=headers)\n",
    "\n",
    "df_strinfo.drop(columns=['TMP'],axis=1, inplace=True)\n",
    "print(df_strinfo.shape[0])\n",
    "\n",
    "df_strinfo.to_csv(os.path.join(final_data_dir, 'strinfo.csv'), index=False)\n",
    "\n",
    "df_strinfo.head()"
   ]
  },
  {
   "cell_type": "code",
   "execution_count": null,
   "id": "f64763a3",
   "metadata": {},
   "outputs": [],
   "source": []
  }
 ],
 "metadata": {
  "kernelspec": {
   "display_name": "Python 3 (ipykernel)",
   "language": "python",
   "name": "python3"
  },
  "language_info": {
   "codemirror_mode": {
    "name": "ipython",
    "version": 3
   },
   "file_extension": ".py",
   "mimetype": "text/x-python",
   "name": "python",
   "nbconvert_exporter": "python",
   "pygments_lexer": "ipython3",
   "version": "3.10.13"
  }
 },
 "nbformat": 4,
 "nbformat_minor": 5
}
