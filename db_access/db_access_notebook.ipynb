{
 "cells": [
  {
   "cell_type": "code",
   "execution_count": null,
   "id": "d0a8a3a4",
   "metadata": {},
   "outputs": [],
   "source": [
    "import psycopg2\n",
    "from dotenv import load_dotenv\n",
    "import os\n",
    "import pandas as pd\n",
    "\n",
    "import warnings\n",
    "warnings.filterwarnings('ignore')"
   ]
  },
  {
   "cell_type": "code",
   "execution_count": null,
   "id": "a27c5e37",
   "metadata": {},
   "outputs": [],
   "source": [
    "CURR_DIR=os.getcwd()\n",
    "print(CURR_DIR)\n",
    "\n",
    "## Environment File Path\n",
    "## Fill the var.env with necessary values\n",
    "env_file_path=os.path.join(os.path.dirname(CURR_DIR), 'var.env')\n",
    "print(env_file_path)\n",
    "\n",
    "# load the environment variables\n",
    "load_dotenv(env_file_path)\n",
    "env=os.environ\n",
    "\n",
    "DBNAME=env.get('DBNAME')\n",
    "USERNAME=env.get('USERNAME')\n",
    "PASSWORD=env.get('PASSWORD')\n",
    "HOSTNAME=env.get('HOSTNAME')\n",
    "PORT=env.get('PORT')\n",
    "SCHEMA=env.get('SCHEMA')\n",
    "print(f\"Schema : {SCHEMA}\")\n",
    "print(f\"DBName: {DBNAME} HOSTNAME: {HOSTNAME}\")"
   ]
  },
  {
   "cell_type": "code",
   "execution_count": null,
   "id": "63e2ef59",
   "metadata": {},
   "outputs": [],
   "source": [
    "# Establish the connection\n",
    "conn = psycopg2.connect(\n",
    "    dbname=DBNAME,\n",
    "    user=USERNAME,\n",
    "    password=PASSWORD,\n",
    "    host=HOSTNAME,\n",
    "    port=PORT\n",
    ")\n",
    "\n",
    "# Create a cursor object to interact with the database\n",
    "cur = conn.cursor()\n",
    "\n",
    "# Setting the SearchPath to Group Schema\n",
    "cur.execute(f\"SET search_path TO {SCHEMA};\")"
   ]
  },
  {
   "cell_type": "code",
   "execution_count": null,
   "id": "7d2ffbbf",
   "metadata": {},
   "outputs": [],
   "source": [
    "# Getting Data from DeptInfo\n",
    "cur.execute(\"SELECT * FROM deptinfo;\")\n",
    "column_names = [desc[0] for desc in cur.description]\n",
    "print(column_names)\n",
    "\n",
    "rows = cur.fetchall()\n",
    "df_deptinfo = pd.DataFrame(rows, columns=column_names)\n",
    "df_deptinfo.head()"
   ]
  },
  {
   "cell_type": "code",
   "execution_count": null,
   "id": "cc56b723",
   "metadata": {},
   "outputs": [],
   "source": [
    "# Getting Data from Skstinfo\n",
    "cur.execute(\"SELECT * FROM skstinfo;\")\n",
    "column_names = [desc[0] for desc in cur.description]\n",
    "print(column_names)\n",
    "\n",
    "rows = cur.fetchall()\n",
    "df_skstinfo = pd.DataFrame(rows, columns=column_names)\n",
    "df_skstinfo.head()"
   ]
  },
  {
   "cell_type": "code",
   "execution_count": null,
   "id": "fc87243d",
   "metadata": {},
   "outputs": [],
   "source": [
    "# Getting Data from skutinfo\n",
    "cur.execute(\"SELECT * FROM skuinfo;\")\n",
    "column_names = [desc[0] for desc in cur.description]\n",
    "print(column_names)\n",
    "\n",
    "rows = cur.fetchall()\n",
    "df_skuinfo = pd.DataFrame(rows, columns=column_names)\n",
    "df_skuinfo.head()"
   ]
  },
  {
   "cell_type": "code",
   "execution_count": null,
   "id": "3e1166b0",
   "metadata": {},
   "outputs": [],
   "source": [
    "# Getting Data from strinfo\n",
    "cur.execute(\"SELECT * FROM strinfo;\")\n",
    "column_names = [desc[0] for desc in cur.description]\n",
    "print(column_names)\n",
    "\n",
    "rows = cur.fetchall()\n",
    "df_strinfo = pd.DataFrame(rows, columns=column_names)\n",
    "df_strinfo.head()"
   ]
  },
  {
   "cell_type": "code",
   "execution_count": null,
   "id": "cab3f30a",
   "metadata": {},
   "outputs": [],
   "source": [
    "# Getting Data from trnsact\n",
    "cur.execute(\"SELECT * FROM trnsact ORDER BY RANDOM() LIMIT 5000000;\")\n",
    "column_names = [desc[0] for desc in cur.description]\n",
    "print(column_names)\n",
    "\n",
    "rows = cur.fetchall()\n",
    "df_trnsact = pd.DataFrame(rows, columns=column_names)\n",
    "df_trnsact.head()"
   ]
  }
 ],
 "metadata": {
  "kernelspec": {
   "display_name": "Python 3 (ipykernel)",
   "language": "python",
   "name": "python3"
  },
  "language_info": {
   "codemirror_mode": {
    "name": "ipython",
    "version": 3
   },
   "file_extension": ".py",
   "mimetype": "text/x-python",
   "name": "python",
   "nbconvert_exporter": "python",
   "pygments_lexer": "ipython3",
   "version": "3.10.13"
  }
 },
 "nbformat": 4,
 "nbformat_minor": 5
}
