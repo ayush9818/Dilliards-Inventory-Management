{
 "cells": [
  {
   "cell_type": "code",
   "execution_count": 1,
   "id": "469103dc",
   "metadata": {},
   "outputs": [],
   "source": [
    "import pandas as pd\n",
    "import os\n",
    "import matplotlib.pyplot as plt\n",
    "import numpy as np \n",
    "import scipy.stats as stats\n",
    "from sklearn.model_selection import train_test_split, KFold\n",
    "from sklearn.linear_model import LinearRegression, ElasticNet, LassoCV, RidgeCV\n",
    "from sklearn.tree import DecisionTreeRegressor\n",
    "from sklearn.metrics import mean_squared_error, r2_score\n",
    "from sklearn.ensemble import RandomForestRegressor\n",
    "from sklearn.ensemble import GradientBoostingRegressor\n",
    "from sklearn.ensemble import AdaBoostRegressor\n",
    "from sklearn.decomposition import PCA\n",
    "from sklearn.preprocessing import StandardScaler\n",
    "from sklearn.neural_network import MLPRegressor\n",
    "\n",
    "import json\n",
    "import joblib\n",
    "from sklearn.model_selection import GridSearchCV\n",
    "from xgboost import XGBRegressor\n",
    "\n",
    "import warnings\n",
    "warnings.filterwarnings('ignore')"
   ]
  },
  {
   "cell_type": "code",
   "execution_count": 2,
   "id": "7c36c3c3",
   "metadata": {},
   "outputs": [],
   "source": [
    "data_dir = os.path.join(os.path.dirname(os.getcwd()),'data')\n",
    "model_dir = os.path.join(os.path.dirname(os.getcwd()),'models')\n",
    "file_name = 'sample_train_v1.csv'\n",
    "\n",
    "data_path = os.path.join(data_dir, file_name)\n",
    "assert os.path.exists(data_path), f\"{file_name} does not exist\"\n",
    "\n",
    "\n",
    "os.makedirs(model_dir, exist_ok=True)"
   ]
  },
  {
   "cell_type": "code",
   "execution_count": 3,
   "id": "d00210a1",
   "metadata": {},
   "outputs": [
    {
     "name": "stdout",
     "output_type": "stream",
     "text": [
      "Data Size  400000\n"
     ]
    },
    {
     "data": {
      "text/html": [
       "<div>\n",
       "<style scoped>\n",
       "    .dataframe tbody tr th:only-of-type {\n",
       "        vertical-align: middle;\n",
       "    }\n",
       "\n",
       "    .dataframe tbody tr th {\n",
       "        vertical-align: top;\n",
       "    }\n",
       "\n",
       "    .dataframe thead th {\n",
       "        text-align: right;\n",
       "    }\n",
       "</style>\n",
       "<table border=\"1\" class=\"dataframe\">\n",
       "  <thead>\n",
       "    <tr style=\"text-align: right;\">\n",
       "      <th></th>\n",
       "      <th>COUNT_ITEMS</th>\n",
       "      <th>MenRatio</th>\n",
       "      <th>White</th>\n",
       "      <th>Asian</th>\n",
       "      <th>Income</th>\n",
       "      <th>Poverty</th>\n",
       "      <th>Professional</th>\n",
       "      <th>Construction</th>\n",
       "      <th>Unemployment</th>\n",
       "      <th>averageoriginalprice</th>\n",
       "      <th>...</th>\n",
       "      <th>STATE_NV</th>\n",
       "      <th>STATE_OH</th>\n",
       "      <th>STATE_OK</th>\n",
       "      <th>STATE_SC</th>\n",
       "      <th>STATE_TN</th>\n",
       "      <th>STATE_TX</th>\n",
       "      <th>STATE_UT</th>\n",
       "      <th>STATE_VA</th>\n",
       "      <th>STATE_WY</th>\n",
       "      <th>train_type</th>\n",
       "    </tr>\n",
       "  </thead>\n",
       "  <tbody>\n",
       "    <tr>\n",
       "      <th>0</th>\n",
       "      <td>99356</td>\n",
       "      <td>0.504501</td>\n",
       "      <td>50.826667</td>\n",
       "      <td>1.293333</td>\n",
       "      <td>45816.666667</td>\n",
       "      <td>20.193333</td>\n",
       "      <td>30.006667</td>\n",
       "      <td>13.153333</td>\n",
       "      <td>9.766667</td>\n",
       "      <td>2.396986</td>\n",
       "      <td>...</td>\n",
       "      <td>False</td>\n",
       "      <td>False</td>\n",
       "      <td>False</td>\n",
       "      <td>False</td>\n",
       "      <td>False</td>\n",
       "      <td>False</td>\n",
       "      <td>False</td>\n",
       "      <td>False</td>\n",
       "      <td>False</td>\n",
       "      <td>train</td>\n",
       "    </tr>\n",
       "    <tr>\n",
       "      <th>1</th>\n",
       "      <td>58278</td>\n",
       "      <td>0.491350</td>\n",
       "      <td>68.111000</td>\n",
       "      <td>1.139000</td>\n",
       "      <td>44551.670000</td>\n",
       "      <td>18.322000</td>\n",
       "      <td>30.847000</td>\n",
       "      <td>11.708000</td>\n",
       "      <td>7.965000</td>\n",
       "      <td>3.912023</td>\n",
       "      <td>...</td>\n",
       "      <td>False</td>\n",
       "      <td>False</td>\n",
       "      <td>False</td>\n",
       "      <td>False</td>\n",
       "      <td>False</td>\n",
       "      <td>False</td>\n",
       "      <td>False</td>\n",
       "      <td>False</td>\n",
       "      <td>False</td>\n",
       "      <td>val</td>\n",
       "    </tr>\n",
       "    <tr>\n",
       "      <th>2</th>\n",
       "      <td>40664</td>\n",
       "      <td>0.493487</td>\n",
       "      <td>71.684211</td>\n",
       "      <td>2.062406</td>\n",
       "      <td>56270.037594</td>\n",
       "      <td>14.367669</td>\n",
       "      <td>34.354135</td>\n",
       "      <td>10.771429</td>\n",
       "      <td>6.033835</td>\n",
       "      <td>3.433987</td>\n",
       "      <td>...</td>\n",
       "      <td>False</td>\n",
       "      <td>False</td>\n",
       "      <td>False</td>\n",
       "      <td>False</td>\n",
       "      <td>False</td>\n",
       "      <td>False</td>\n",
       "      <td>False</td>\n",
       "      <td>True</td>\n",
       "      <td>False</td>\n",
       "      <td>train</td>\n",
       "    </tr>\n",
       "    <tr>\n",
       "      <th>3</th>\n",
       "      <td>74895</td>\n",
       "      <td>0.487016</td>\n",
       "      <td>65.168657</td>\n",
       "      <td>0.711940</td>\n",
       "      <td>40271.402985</td>\n",
       "      <td>20.949254</td>\n",
       "      <td>28.095522</td>\n",
       "      <td>11.605970</td>\n",
       "      <td>9.023881</td>\n",
       "      <td>3.349904</td>\n",
       "      <td>...</td>\n",
       "      <td>False</td>\n",
       "      <td>False</td>\n",
       "      <td>False</td>\n",
       "      <td>False</td>\n",
       "      <td>False</td>\n",
       "      <td>False</td>\n",
       "      <td>False</td>\n",
       "      <td>False</td>\n",
       "      <td>False</td>\n",
       "      <td>train</td>\n",
       "    </tr>\n",
       "    <tr>\n",
       "      <th>4</th>\n",
       "      <td>73688</td>\n",
       "      <td>0.496876</td>\n",
       "      <td>90.285227</td>\n",
       "      <td>0.931818</td>\n",
       "      <td>51742.204545</td>\n",
       "      <td>14.507955</td>\n",
       "      <td>30.580682</td>\n",
       "      <td>9.963636</td>\n",
       "      <td>6.084091</td>\n",
       "      <td>3.891820</td>\n",
       "      <td>...</td>\n",
       "      <td>False</td>\n",
       "      <td>True</td>\n",
       "      <td>False</td>\n",
       "      <td>False</td>\n",
       "      <td>False</td>\n",
       "      <td>False</td>\n",
       "      <td>False</td>\n",
       "      <td>False</td>\n",
       "      <td>False</td>\n",
       "      <td>train</td>\n",
       "    </tr>\n",
       "  </tbody>\n",
       "</table>\n",
       "<p>5 rows × 1207 columns</p>\n",
       "</div>"
      ],
      "text/plain": [
       "   COUNT_ITEMS  MenRatio      White     Asian        Income    Poverty  \\\n",
       "0        99356  0.504501  50.826667  1.293333  45816.666667  20.193333   \n",
       "1        58278  0.491350  68.111000  1.139000  44551.670000  18.322000   \n",
       "2        40664  0.493487  71.684211  2.062406  56270.037594  14.367669   \n",
       "3        74895  0.487016  65.168657  0.711940  40271.402985  20.949254   \n",
       "4        73688  0.496876  90.285227  0.931818  51742.204545  14.507955   \n",
       "\n",
       "   Professional  Construction  Unemployment  averageoriginalprice  ...  \\\n",
       "0     30.006667     13.153333      9.766667              2.396986  ...   \n",
       "1     30.847000     11.708000      7.965000              3.912023  ...   \n",
       "2     34.354135     10.771429      6.033835              3.433987  ...   \n",
       "3     28.095522     11.605970      9.023881              3.349904  ...   \n",
       "4     30.580682      9.963636      6.084091              3.891820  ...   \n",
       "\n",
       "   STATE_NV  STATE_OH  STATE_OK  STATE_SC  STATE_TN  STATE_TX  STATE_UT  \\\n",
       "0     False     False     False     False     False     False     False   \n",
       "1     False     False     False     False     False     False     False   \n",
       "2     False     False     False     False     False     False     False   \n",
       "3     False     False     False     False     False     False     False   \n",
       "4     False      True     False     False     False     False     False   \n",
       "\n",
       "   STATE_VA  STATE_WY  train_type  \n",
       "0     False     False       train  \n",
       "1     False     False         val  \n",
       "2      True     False       train  \n",
       "3     False     False       train  \n",
       "4     False     False       train  \n",
       "\n",
       "[5 rows x 1207 columns]"
      ]
     },
     "execution_count": 3,
     "metadata": {},
     "output_type": "execute_result"
    }
   ],
   "source": [
    "df = pd.read_csv(data_path)\n",
    "print(f\"Data Size  {df.shape[0]}\")\n",
    "df.head()"
   ]
  },
  {
   "cell_type": "code",
   "execution_count": 91,
   "id": "9882ada2",
   "metadata": {},
   "outputs": [],
   "source": [
    "with open(os.path.join(model_dir,'columns.json'),'w') as f:\n",
    "    json.dump(list(df_train.columns),f)"
   ]
  },
  {
   "cell_type": "code",
   "execution_count": 4,
   "id": "501f83a9",
   "metadata": {},
   "outputs": [
    {
     "name": "stdout",
     "output_type": "stream",
     "text": [
      "Train Size : 320000\n",
      "Validation Size : 80000\n"
     ]
    }
   ],
   "source": [
    "df_train = df[df.train_type == 'train']\n",
    "df_val = df[df.train_type == 'val']\n",
    "print(f\"Train Size : {df_train.shape[0]}\")\n",
    "print(f\"Validation Size : {df_val.shape[0]}\")"
   ]
  },
  {
   "cell_type": "code",
   "execution_count": 5,
   "id": "4d0c8e50",
   "metadata": {},
   "outputs": [],
   "source": [
    "df_train.drop('train_type',axis=1, inplace=True)\n",
    "df_val.drop('train_type',axis=1, inplace=True)\n",
    "\n",
    "assert 'train_type' not in df_train.columns, \"drop train_type column from df_train\"\n",
    "assert 'train_type' not in df_val.columns, \"drop train_type columns from df_val\""
   ]
  },
  {
   "cell_type": "code",
   "execution_count": 6,
   "id": "99531e96",
   "metadata": {},
   "outputs": [
    {
     "name": "stdout",
     "output_type": "stream",
     "text": [
      "X_train Shape : (320000, 1205)\n",
      "y_train Shape : (320000, 1)\n",
      "X_val Shape : (80000, 1205)\n",
      "y_val Shape : (80000, 1)\n"
     ]
    }
   ],
   "source": [
    "X_train = df_train.drop('revenue', axis=1)\n",
    "y_train = df_train[['revenue']]\n",
    "\n",
    "X_val = df_val.drop('revenue',axis=1)\n",
    "y_val = df_val[['revenue']]\n",
    "\n",
    "print(f\"X_train Shape : {X_train.shape}\")\n",
    "print(f\"y_train Shape : {y_train.shape}\")\n",
    "print(f\"X_val Shape : {X_val.shape}\")\n",
    "print(f\"y_val Shape : {y_val.shape}\")"
   ]
  },
  {
   "cell_type": "code",
   "execution_count": 7,
   "id": "f284cc81",
   "metadata": {},
   "outputs": [],
   "source": [
    "def validate_model_performance(model_obj, X, y_true , data_type='val'):\n",
    "    print(f\"Testing {data_type} set\")\n",
    "    \n",
    "    y_pred = model_obj.predict(X)\n",
    "    \n",
    "    mse_score = mean_squared_error(y_true, y_pred)\n",
    "    r2 = r2_score(y_true, y_pred)\n",
    "    \n",
    "    print(f\"MSE Score : {round(mse_score,3)}, R2 Score : {round(r2,3)}\")\n",
    "    return mse_score, r2"
   ]
  },
  {
   "cell_type": "code",
   "execution_count": 8,
   "id": "c0202551",
   "metadata": {},
   "outputs": [],
   "source": [
    "perf_dict = []"
   ]
  },
  {
   "cell_type": "markdown",
   "id": "137f420e",
   "metadata": {},
   "source": [
    "## Model 1 : Linear Regression"
   ]
  },
  {
   "cell_type": "code",
   "execution_count": 10,
   "id": "cd069498",
   "metadata": {},
   "outputs": [
    {
     "name": "stdout",
     "output_type": "stream",
     "text": [
      "Testing train set\n",
      "MSE Score : 0.329, R2 Score : 0.661\n",
      "Testing val set\n",
      "MSE Score : 0.329, R2 Score : 0.662\n"
     ]
    }
   ],
   "source": [
    "lr_model = LinearRegression()\n",
    "lr_model.fit(X_train, y_train)\n",
    "\n",
    "train_mse, train_r2 = validate_model_performance(lr_model, X_train, y_train, data_type='train')\n",
    "val_mse, val_r2 = validate_model_performance(lr_model, X_val, y_val, data_type='val')\n",
    "tmp_dict={}\n",
    "tmp_dict['model'] = 'LinearRegression'\n",
    "tmp_dict['train_mse'] = train_mse\n",
    "tmp_dict['val_mse'] = val_mse\n",
    "tmp_dict['train_r2'] = train_r2\n",
    "tmp_dict['val_r2'] = val_r2\n",
    "\n",
    "perf_dict.append(tmp_dict)"
   ]
  },
  {
   "cell_type": "code",
   "execution_count": 20,
   "id": "4fd9efdd",
   "metadata": {},
   "outputs": [
    {
     "data": {
      "text/plain": [
       "['/Users/dare_devil/Desktop/MLDS_2024/Quarter1/Everything_Starts_With_Data/Project/MLDS_400_G11/models/linear_regression.joblib']"
      ]
     },
     "execution_count": 20,
     "metadata": {},
     "output_type": "execute_result"
    }
   ],
   "source": [
    "model_name = 'linear_regression.joblib'\n",
    "joblib.dump(lr_model, os.path.join(model_dir, model_name))"
   ]
  },
  {
   "cell_type": "markdown",
   "id": "3dcf7b25",
   "metadata": {},
   "source": [
    "## Model 2 : Ridge Regression"
   ]
  },
  {
   "cell_type": "code",
   "execution_count": 11,
   "id": "f6ac6424",
   "metadata": {},
   "outputs": [],
   "source": [
    "scale_cols = ['COUNT_ITEMS','MenRatio','White','Asian','Income',\n",
    "              'Poverty','Professional','Construction','Unemployment',\n",
    "              'averageoriginalprice','COST','RETAIL']\n",
    "\n",
    "Z_train = X_train.copy()\n",
    "Z_val = X_val.copy()\n",
    "\n",
    "sc = StandardScaler()\n",
    "sc.fit(Z_train[scale_cols])\n",
    "\n",
    "Z_train[scale_cols] = sc.transform(Z_train[scale_cols])\n",
    "Z_val[scale_cols] = sc.transform(Z_val[scale_cols])"
   ]
  },
  {
   "cell_type": "code",
   "execution_count": 12,
   "id": "881b76b6",
   "metadata": {},
   "outputs": [
    {
     "name": "stdout",
     "output_type": "stream",
     "text": [
      "Best Alpha : 1.623776739188721\n",
      "Testing train set\n",
      "MSE Score : 0.329, R2 Score : 0.661\n",
      "Testing val set\n",
      "MSE Score : 0.329, R2 Score : 0.662\n"
     ]
    }
   ],
   "source": [
    "num_folds = 3\n",
    "alpha_list = np.logspace(-4, 4, 20)\n",
    "ridge_model = RidgeCV(alphas=alpha_list, scoring='r2', cv=num_folds)\n",
    "ridge_model.fit(Z_train, y_train)\n",
    "\n",
    "print(f\"Best Alpha : {float(ridge_model.alpha_)}\")\n",
    "\n",
    "train_mse, train_r2 = validate_model_performance(ridge_model, Z_train, y_train, data_type='train')\n",
    "val_mse, val_r2 = validate_model_performance(ridge_model, Z_val, y_val, data_type='val')\n",
    "\n",
    "tmp_dict={}\n",
    "tmp_dict['model'] = 'RidgeRegression'\n",
    "tmp_dict['train_mse'] = train_mse\n",
    "tmp_dict['val_mse'] = val_mse\n",
    "tmp_dict['train_r2'] = train_r2\n",
    "tmp_dict['val_r2'] = val_r2\n",
    "\n",
    "perf_dict.append(tmp_dict)"
   ]
  },
  {
   "cell_type": "code",
   "execution_count": 22,
   "id": "9b960bea",
   "metadata": {},
   "outputs": [
    {
     "data": {
      "text/plain": [
       "['/Users/dare_devil/Desktop/MLDS_2024/Quarter1/Everything_Starts_With_Data/Project/MLDS_400_G11/models/ridge_regression_1.624.joblib']"
      ]
     },
     "execution_count": 22,
     "metadata": {},
     "output_type": "execute_result"
    }
   ],
   "source": [
    "best_alpha = round(float(ridge_model.alpha_),3)\n",
    "model_name = f'ridge_regression_{best_alpha}.joblib'\n",
    "joblib.dump(ridge_model, os.path.join(model_dir, model_name))"
   ]
  },
  {
   "cell_type": "markdown",
   "id": "a9f9f2f9",
   "metadata": {},
   "source": [
    "## Model 3 : Lasso Regression"
   ]
  },
  {
   "cell_type": "code",
   "execution_count": 13,
   "id": "58f9c082",
   "metadata": {},
   "outputs": [
    {
     "name": "stdout",
     "output_type": "stream",
     "text": [
      "Best Alpha : 0.0001\n",
      "Testing train set\n",
      "MSE Score : 0.333, R2 Score : 0.657\n",
      "Testing val set\n",
      "MSE Score : 0.332, R2 Score : 0.659\n"
     ]
    }
   ],
   "source": [
    "num_folds = 3\n",
    "alpha_list = np.logspace(-4, 4, 20)\n",
    "lasso_model = LassoCV(alphas=alpha_list, cv=num_folds)\n",
    "lasso_model.fit(Z_train, y_train)\n",
    "\n",
    "print(f\"Best Alpha : {lasso_model.alpha_}\")\n",
    "\n",
    "train_mse, train_r2 = validate_model_performance(lasso_model, Z_train, y_train, data_type='train')\n",
    "val_mse, val_r2 = validate_model_performance(lasso_model, Z_val, y_val, data_type='val')\n",
    "\n",
    "tmp_dict={}\n",
    "tmp_dict['model'] = 'LassoRegression'\n",
    "tmp_dict['train_mse'] = train_mse\n",
    "tmp_dict['val_mse'] = val_mse\n",
    "tmp_dict['train_r2'] = train_r2\n",
    "tmp_dict['val_r2'] = val_r2\n",
    "\n",
    "perf_dict.append(tmp_dict)"
   ]
  },
  {
   "cell_type": "code",
   "execution_count": 14,
   "id": "2bd887e9",
   "metadata": {},
   "outputs": [
    {
     "data": {
      "text/plain": [
       "[{'model': 'LinearRegression',\n",
       "  'train_mse': 0.32914539304427093,\n",
       "  'val_mse': 0.32911126955426573,\n",
       "  'train_r2': 0.661335917164788,\n",
       "  'val_r2': 0.661949155370896},\n",
       " {'model': 'RidgeRegression',\n",
       "  'train_mse': 0.3292248474042057,\n",
       "  'val_mse': 0.3289697121191184,\n",
       "  'train_r2': 0.6612541650318303,\n",
       "  'val_r2': 0.662094557898679},\n",
       " {'model': 'LassoRegression',\n",
       "  'train_mse': 0.333250349463725,\n",
       "  'val_mse': 0.3320212855101733,\n",
       "  'train_r2': 0.6571122478373369,\n",
       "  'val_r2': 0.6589600953088961}]"
      ]
     },
     "execution_count": 14,
     "metadata": {},
     "output_type": "execute_result"
    }
   ],
   "source": [
    "perf_dict"
   ]
  },
  {
   "cell_type": "code",
   "execution_count": 25,
   "id": "1aee0f11",
   "metadata": {},
   "outputs": [
    {
     "data": {
      "text/plain": [
       "['/Users/dare_devil/Desktop/MLDS_2024/Quarter1/Everything_Starts_With_Data/Project/MLDS_400_G11/models/lass_regression_alpha_0.0001.joblib']"
      ]
     },
     "execution_count": 25,
     "metadata": {},
     "output_type": "execute_result"
    }
   ],
   "source": [
    "best_alpha = float(lasso_model.alpha_)\n",
    "model_name = f'lass_regression_alpha_{best_alpha}.joblib'\n",
    "joblib.dump(lasso_model, os.path.join(model_dir, model_name))"
   ]
  },
  {
   "cell_type": "markdown",
   "id": "adbc245d",
   "metadata": {},
   "source": [
    "## Model 4: Xgboost Regressor"
   ]
  },
  {
   "cell_type": "code",
   "execution_count": 35,
   "id": "b76852d1",
   "metadata": {},
   "outputs": [
    {
     "data": {
      "text/html": [
       "<style>#sk-container-id-4 {color: black;}#sk-container-id-4 pre{padding: 0;}#sk-container-id-4 div.sk-toggleable {background-color: white;}#sk-container-id-4 label.sk-toggleable__label {cursor: pointer;display: block;width: 100%;margin-bottom: 0;padding: 0.3em;box-sizing: border-box;text-align: center;}#sk-container-id-4 label.sk-toggleable__label-arrow:before {content: \"▸\";float: left;margin-right: 0.25em;color: #696969;}#sk-container-id-4 label.sk-toggleable__label-arrow:hover:before {color: black;}#sk-container-id-4 div.sk-estimator:hover label.sk-toggleable__label-arrow:before {color: black;}#sk-container-id-4 div.sk-toggleable__content {max-height: 0;max-width: 0;overflow: hidden;text-align: left;background-color: #f0f8ff;}#sk-container-id-4 div.sk-toggleable__content pre {margin: 0.2em;color: black;border-radius: 0.25em;background-color: #f0f8ff;}#sk-container-id-4 input.sk-toggleable__control:checked~div.sk-toggleable__content {max-height: 200px;max-width: 100%;overflow: auto;}#sk-container-id-4 input.sk-toggleable__control:checked~label.sk-toggleable__label-arrow:before {content: \"▾\";}#sk-container-id-4 div.sk-estimator input.sk-toggleable__control:checked~label.sk-toggleable__label {background-color: #d4ebff;}#sk-container-id-4 div.sk-label input.sk-toggleable__control:checked~label.sk-toggleable__label {background-color: #d4ebff;}#sk-container-id-4 input.sk-hidden--visually {border: 0;clip: rect(1px 1px 1px 1px);clip: rect(1px, 1px, 1px, 1px);height: 1px;margin: -1px;overflow: hidden;padding: 0;position: absolute;width: 1px;}#sk-container-id-4 div.sk-estimator {font-family: monospace;background-color: #f0f8ff;border: 1px dotted black;border-radius: 0.25em;box-sizing: border-box;margin-bottom: 0.5em;}#sk-container-id-4 div.sk-estimator:hover {background-color: #d4ebff;}#sk-container-id-4 div.sk-parallel-item::after {content: \"\";width: 100%;border-bottom: 1px solid gray;flex-grow: 1;}#sk-container-id-4 div.sk-label:hover label.sk-toggleable__label {background-color: #d4ebff;}#sk-container-id-4 div.sk-serial::before {content: \"\";position: absolute;border-left: 1px solid gray;box-sizing: border-box;top: 0;bottom: 0;left: 50%;z-index: 0;}#sk-container-id-4 div.sk-serial {display: flex;flex-direction: column;align-items: center;background-color: white;padding-right: 0.2em;padding-left: 0.2em;position: relative;}#sk-container-id-4 div.sk-item {position: relative;z-index: 1;}#sk-container-id-4 div.sk-parallel {display: flex;align-items: stretch;justify-content: center;background-color: white;position: relative;}#sk-container-id-4 div.sk-item::before, #sk-container-id-4 div.sk-parallel-item::before {content: \"\";position: absolute;border-left: 1px solid gray;box-sizing: border-box;top: 0;bottom: 0;left: 50%;z-index: -1;}#sk-container-id-4 div.sk-parallel-item {display: flex;flex-direction: column;z-index: 1;position: relative;background-color: white;}#sk-container-id-4 div.sk-parallel-item:first-child::after {align-self: flex-end;width: 50%;}#sk-container-id-4 div.sk-parallel-item:last-child::after {align-self: flex-start;width: 50%;}#sk-container-id-4 div.sk-parallel-item:only-child::after {width: 0;}#sk-container-id-4 div.sk-dashed-wrapped {border: 1px dashed gray;margin: 0 0.4em 0.5em 0.4em;box-sizing: border-box;padding-bottom: 0.4em;background-color: white;}#sk-container-id-4 div.sk-label label {font-family: monospace;font-weight: bold;display: inline-block;line-height: 1.2em;}#sk-container-id-4 div.sk-label-container {text-align: center;}#sk-container-id-4 div.sk-container {/* jupyter's `normalize.less` sets `[hidden] { display: none; }` but bootstrap.min.css set `[hidden] { display: none !important; }` so we also need the `!important` here to be able to override the default hidden behavior on the sphinx rendered scikit-learn.org. See: https://github.com/scikit-learn/scikit-learn/issues/21755 */display: inline-block !important;position: relative;}#sk-container-id-4 div.sk-text-repr-fallback {display: none;}</style><div id=\"sk-container-id-4\" class=\"sk-top-container\"><div class=\"sk-text-repr-fallback\"><pre>XGBRegressor(alpha=10, base_score=None, booster=None, callbacks=None,\n",
       "             colsample_bylevel=None, colsample_bynode=None,\n",
       "             colsample_bytree=0.3, device=None, early_stopping_rounds=None,\n",
       "             enable_categorical=False, eval_metric=None, feature_types=None,\n",
       "             gamma=None, grow_policy=None, importance_type=None,\n",
       "             interaction_constraints=None, learning_rate=0.1, max_bin=None,\n",
       "             max_cat_threshold=None, max_cat_to_onehot=None,\n",
       "             max_delta_step=None, max_depth=8, max_leaves=None,\n",
       "             min_child_weight=None, missing=nan, monotone_constraints=None,\n",
       "             multi_strategy=None, n_estimators=150, n_jobs=None,\n",
       "             num_parallel_tree=None, ...)</pre><b>In a Jupyter environment, please rerun this cell to show the HTML representation or trust the notebook. <br />On GitHub, the HTML representation is unable to render, please try loading this page with nbviewer.org.</b></div><div class=\"sk-container\" hidden><div class=\"sk-item\"><div class=\"sk-estimator sk-toggleable\"><input class=\"sk-toggleable__control sk-hidden--visually\" id=\"sk-estimator-id-4\" type=\"checkbox\" checked><label for=\"sk-estimator-id-4\" class=\"sk-toggleable__label sk-toggleable__label-arrow\">XGBRegressor</label><div class=\"sk-toggleable__content\"><pre>XGBRegressor(alpha=10, base_score=None, booster=None, callbacks=None,\n",
       "             colsample_bylevel=None, colsample_bynode=None,\n",
       "             colsample_bytree=0.3, device=None, early_stopping_rounds=None,\n",
       "             enable_categorical=False, eval_metric=None, feature_types=None,\n",
       "             gamma=None, grow_policy=None, importance_type=None,\n",
       "             interaction_constraints=None, learning_rate=0.1, max_bin=None,\n",
       "             max_cat_threshold=None, max_cat_to_onehot=None,\n",
       "             max_delta_step=None, max_depth=8, max_leaves=None,\n",
       "             min_child_weight=None, missing=nan, monotone_constraints=None,\n",
       "             multi_strategy=None, n_estimators=150, n_jobs=None,\n",
       "             num_parallel_tree=None, ...)</pre></div></div></div></div></div>"
      ],
      "text/plain": [
       "XGBRegressor(alpha=10, base_score=None, booster=None, callbacks=None,\n",
       "             colsample_bylevel=None, colsample_bynode=None,\n",
       "             colsample_bytree=0.3, device=None, early_stopping_rounds=None,\n",
       "             enable_categorical=False, eval_metric=None, feature_types=None,\n",
       "             gamma=None, grow_policy=None, importance_type=None,\n",
       "             interaction_constraints=None, learning_rate=0.1, max_bin=None,\n",
       "             max_cat_threshold=None, max_cat_to_onehot=None,\n",
       "             max_delta_step=None, max_depth=8, max_leaves=None,\n",
       "             min_child_weight=None, missing=nan, monotone_constraints=None,\n",
       "             multi_strategy=None, n_estimators=150, n_jobs=None,\n",
       "             num_parallel_tree=None, ...)"
      ]
     },
     "execution_count": 35,
     "metadata": {},
     "output_type": "execute_result"
    }
   ],
   "source": [
    "xg_reg = XGBRegressor(objective ='reg:squarederror', \n",
    "                          colsample_bytree = 0.3, \n",
    "                          learning_rate = 0.1,\n",
    "                          max_depth = 8, \n",
    "                          alpha = 10, \n",
    "                          n_estimators = 150)\n",
    "xg_reg.fit(X_train, y_train)"
   ]
  },
  {
   "cell_type": "code",
   "execution_count": 36,
   "id": "08132d82",
   "metadata": {},
   "outputs": [
    {
     "name": "stdout",
     "output_type": "stream",
     "text": [
      "Testing train set\n",
      "MSE Score : 0.267, R2 Score : 0.725\n",
      "Testing val set\n",
      "MSE Score : 0.272, R2 Score : 0.72\n"
     ]
    }
   ],
   "source": [
    "train_mse, train_r2 = validate_model_performance(xg_reg, X_train, y_train, data_type='train')\n",
    "val_mse, val_r2 = validate_model_performance(xg_reg, X_val, y_val, data_type='val')"
   ]
  },
  {
   "cell_type": "code",
   "execution_count": 43,
   "id": "ca1fc28b",
   "metadata": {},
   "outputs": [
    {
     "name": "stdout",
     "output_type": "stream",
     "text": [
      "Fitting 5 folds for each of 162 candidates, totalling 810 fits\n",
      "Best Hyperparameters: {'colsample_bytree': 1.0, 'learning_rate': 0.3, 'max_depth': 9, 'n_estimators': 200, 'subsample': 1.0}\n",
      "Best RMSE: 0.5115724587112536\n"
     ]
    },
    {
     "ename": "NameError",
     "evalue": "name 'xgb' is not defined",
     "output_type": "error",
     "traceback": [
      "\u001b[0;31m---------------------------------------------------------------------------\u001b[0m",
      "\u001b[0;31mNameError\u001b[0m                                 Traceback (most recent call last)",
      "Cell \u001b[0;32mIn[43], line 27\u001b[0m\n\u001b[1;32m     24\u001b[0m \u001b[38;5;28mprint\u001b[39m(\u001b[38;5;124m\"\u001b[39m\u001b[38;5;124mBest RMSE:\u001b[39m\u001b[38;5;124m\"\u001b[39m, best_score)\n\u001b[1;32m     26\u001b[0m \u001b[38;5;66;03m# Now you can train your final XGBoost model using the best hyperparameters\u001b[39;00m\n\u001b[0;32m---> 27\u001b[0m best_xgb_regressor \u001b[38;5;241m=\u001b[39m \u001b[43mxgb\u001b[49m\u001b[38;5;241m.\u001b[39mXGBRegressor(random_state\u001b[38;5;241m=\u001b[39m\u001b[38;5;241m42\u001b[39m, \u001b[38;5;241m*\u001b[39m\u001b[38;5;241m*\u001b[39mbest_params)\n\u001b[1;32m     28\u001b[0m best_xgb_regressor\u001b[38;5;241m.\u001b[39mfit(X_train, y_train)\n",
      "\u001b[0;31mNameError\u001b[0m: name 'xgb' is not defined"
     ]
    }
   ],
   "source": [
    "param_grid = {\n",
    "    'n_estimators': [100, 200],            # Number of boosting rounds\n",
    "    'max_depth': [5, 7, 9],               # Maximum tree depth\n",
    "    'learning_rate': [0.01, 0.1, 0.3],    # Step size shrinkage\n",
    "    'subsample': [0.8, 0.9, 1.0],         # Fraction of samples used for training\n",
    "    'colsample_bytree': [0.8, 0.9, 1.0],  # Fraction of features used for training in each tree\n",
    "}\n",
    "\n",
    "# Create an XGBoost regressor\n",
    "xgb_regressor = XGBRegressor(random_state=42)\n",
    "\n",
    "# Perform k-fold cross-validation to find the best hyperparameters\n",
    "kfold = KFold(n_splits=5, shuffle=True, random_state=42)\n",
    "grid_search = GridSearchCV(estimator=xgb_regressor, param_grid=param_grid, cv=kfold, scoring='neg_mean_squared_error', n_jobs=-1, verbose=True)\n",
    "\n",
    "# Fit the model to the data and find the best hyperparameters\n",
    "grid_search.fit(X_train, y_train)\n",
    "\n",
    "# Print the best hyperparameters and the corresponding cross-validated score\n",
    "best_params = grid_search.best_params_\n",
    "best_score = np.sqrt(-grid_search.best_score_)  # Root Mean Squared Error\n",
    "\n",
    "print(\"Best Hyperparameters:\", best_params)\n",
    "print(\"Best RMSE:\", best_score)\n",
    "\n",
    "# Now you can train your final XGBoost model using the best hyperparameters\n",
    "best_xgb_regressor = xgb.XGBRegressor(random_state=42, **best_params)\n",
    "best_xgb_regressor.fit(X_train, y_train)"
   ]
  },
  {
   "cell_type": "code",
   "execution_count": 49,
   "id": "397e66f7",
   "metadata": {},
   "outputs": [
    {
     "name": "stdout",
     "output_type": "stream",
     "text": [
      "Testing train set\n",
      "MSE Score : 0.21, R2 Score : 0.784\n",
      "Testing val set\n",
      "MSE Score : 0.256, R2 Score : 0.737\n"
     ]
    }
   ],
   "source": [
    "train_mse, train_r2 = validate_model_performance(best_xgb_regressor, X_train, y_train, data_type='train')\n",
    "val_mse, val_r2 = validate_model_performance(best_xgb_regressor, X_val, y_val, data_type='val')"
   ]
  },
  {
   "cell_type": "code",
   "execution_count": 50,
   "id": "0b95eba8",
   "metadata": {},
   "outputs": [],
   "source": [
    "tmp_dict={}\n",
    "tmp_dict['model'] = 'XgBoost'\n",
    "tmp_dict['train_mse'] = train_mse\n",
    "tmp_dict['val_mse'] = val_mse\n",
    "tmp_dict['train_r2'] = train_r2\n",
    "tmp_dict['val_r2'] = val_r2\n",
    "\n",
    "perf_dict.append(tmp_dict)"
   ]
  },
  {
   "cell_type": "code",
   "execution_count": 51,
   "id": "876e3b0b",
   "metadata": {},
   "outputs": [
    {
     "data": {
      "text/plain": [
       "['/Users/dare_devil/Desktop/MLDS_2024/Quarter1/Everything_Starts_With_Data/Project/MLDS_400_G11/models/xgboost.joblib']"
      ]
     },
     "execution_count": 51,
     "metadata": {},
     "output_type": "execute_result"
    }
   ],
   "source": [
    "model_name = f'xgboost.joblib'\n",
    "joblib.dump(best_xgb_regressor, os.path.join(model_dir, model_name))"
   ]
  },
  {
   "cell_type": "code",
   "execution_count": 54,
   "id": "5744c879",
   "metadata": {},
   "outputs": [],
   "source": [
    "with open(os.path.join(model_dir, 'perf_dict.json') , 'w') as f:\n",
    "    json.dump(perf_dict, f)"
   ]
  },
  {
   "cell_type": "markdown",
   "id": "1f5990bb",
   "metadata": {},
   "source": [
    "## Model 5: Decision Tree Regressor"
   ]
  },
  {
   "cell_type": "code",
   "execution_count": 70,
   "id": "26021794",
   "metadata": {},
   "outputs": [
    {
     "name": "stdout",
     "output_type": "stream",
     "text": [
      "Best Hyperparameters: {'max_depth': 15, 'min_impurity_decrease': 0.0, 'min_samples_leaf': 4, 'min_samples_split': 10}\n",
      "Best Mean Squared Error: 0.29864754422288964\n"
     ]
    },
    {
     "data": {
      "text/html": [
       "<style>#sk-container-id-7 {color: black;}#sk-container-id-7 pre{padding: 0;}#sk-container-id-7 div.sk-toggleable {background-color: white;}#sk-container-id-7 label.sk-toggleable__label {cursor: pointer;display: block;width: 100%;margin-bottom: 0;padding: 0.3em;box-sizing: border-box;text-align: center;}#sk-container-id-7 label.sk-toggleable__label-arrow:before {content: \"▸\";float: left;margin-right: 0.25em;color: #696969;}#sk-container-id-7 label.sk-toggleable__label-arrow:hover:before {color: black;}#sk-container-id-7 div.sk-estimator:hover label.sk-toggleable__label-arrow:before {color: black;}#sk-container-id-7 div.sk-toggleable__content {max-height: 0;max-width: 0;overflow: hidden;text-align: left;background-color: #f0f8ff;}#sk-container-id-7 div.sk-toggleable__content pre {margin: 0.2em;color: black;border-radius: 0.25em;background-color: #f0f8ff;}#sk-container-id-7 input.sk-toggleable__control:checked~div.sk-toggleable__content {max-height: 200px;max-width: 100%;overflow: auto;}#sk-container-id-7 input.sk-toggleable__control:checked~label.sk-toggleable__label-arrow:before {content: \"▾\";}#sk-container-id-7 div.sk-estimator input.sk-toggleable__control:checked~label.sk-toggleable__label {background-color: #d4ebff;}#sk-container-id-7 div.sk-label input.sk-toggleable__control:checked~label.sk-toggleable__label {background-color: #d4ebff;}#sk-container-id-7 input.sk-hidden--visually {border: 0;clip: rect(1px 1px 1px 1px);clip: rect(1px, 1px, 1px, 1px);height: 1px;margin: -1px;overflow: hidden;padding: 0;position: absolute;width: 1px;}#sk-container-id-7 div.sk-estimator {font-family: monospace;background-color: #f0f8ff;border: 1px dotted black;border-radius: 0.25em;box-sizing: border-box;margin-bottom: 0.5em;}#sk-container-id-7 div.sk-estimator:hover {background-color: #d4ebff;}#sk-container-id-7 div.sk-parallel-item::after {content: \"\";width: 100%;border-bottom: 1px solid gray;flex-grow: 1;}#sk-container-id-7 div.sk-label:hover label.sk-toggleable__label {background-color: #d4ebff;}#sk-container-id-7 div.sk-serial::before {content: \"\";position: absolute;border-left: 1px solid gray;box-sizing: border-box;top: 0;bottom: 0;left: 50%;z-index: 0;}#sk-container-id-7 div.sk-serial {display: flex;flex-direction: column;align-items: center;background-color: white;padding-right: 0.2em;padding-left: 0.2em;position: relative;}#sk-container-id-7 div.sk-item {position: relative;z-index: 1;}#sk-container-id-7 div.sk-parallel {display: flex;align-items: stretch;justify-content: center;background-color: white;position: relative;}#sk-container-id-7 div.sk-item::before, #sk-container-id-7 div.sk-parallel-item::before {content: \"\";position: absolute;border-left: 1px solid gray;box-sizing: border-box;top: 0;bottom: 0;left: 50%;z-index: -1;}#sk-container-id-7 div.sk-parallel-item {display: flex;flex-direction: column;z-index: 1;position: relative;background-color: white;}#sk-container-id-7 div.sk-parallel-item:first-child::after {align-self: flex-end;width: 50%;}#sk-container-id-7 div.sk-parallel-item:last-child::after {align-self: flex-start;width: 50%;}#sk-container-id-7 div.sk-parallel-item:only-child::after {width: 0;}#sk-container-id-7 div.sk-dashed-wrapped {border: 1px dashed gray;margin: 0 0.4em 0.5em 0.4em;box-sizing: border-box;padding-bottom: 0.4em;background-color: white;}#sk-container-id-7 div.sk-label label {font-family: monospace;font-weight: bold;display: inline-block;line-height: 1.2em;}#sk-container-id-7 div.sk-label-container {text-align: center;}#sk-container-id-7 div.sk-container {/* jupyter's `normalize.less` sets `[hidden] { display: none; }` but bootstrap.min.css set `[hidden] { display: none !important; }` so we also need the `!important` here to be able to override the default hidden behavior on the sphinx rendered scikit-learn.org. See: https://github.com/scikit-learn/scikit-learn/issues/21755 */display: inline-block !important;position: relative;}#sk-container-id-7 div.sk-text-repr-fallback {display: none;}</style><div id=\"sk-container-id-7\" class=\"sk-top-container\"><div class=\"sk-text-repr-fallback\"><pre>DecisionTreeRegressor(max_depth=15, min_samples_leaf=4, min_samples_split=10)</pre><b>In a Jupyter environment, please rerun this cell to show the HTML representation or trust the notebook. <br />On GitHub, the HTML representation is unable to render, please try loading this page with nbviewer.org.</b></div><div class=\"sk-container\" hidden><div class=\"sk-item\"><div class=\"sk-estimator sk-toggleable\"><input class=\"sk-toggleable__control sk-hidden--visually\" id=\"sk-estimator-id-7\" type=\"checkbox\" checked><label for=\"sk-estimator-id-7\" class=\"sk-toggleable__label sk-toggleable__label-arrow\">DecisionTreeRegressor</label><div class=\"sk-toggleable__content\"><pre>DecisionTreeRegressor(max_depth=15, min_samples_leaf=4, min_samples_split=10)</pre></div></div></div></div></div>"
      ],
      "text/plain": [
       "DecisionTreeRegressor(max_depth=15, min_samples_leaf=4, min_samples_split=10)"
      ]
     },
     "execution_count": 70,
     "metadata": {},
     "output_type": "execute_result"
    }
   ],
   "source": [
    "# Define the parameter grid\n",
    "param_grid = {\n",
    "    'max_depth': [5, 10, 15],\n",
    "    'min_samples_split': [2, 5, 10],\n",
    "    'min_samples_leaf': [1, 2, 4],\n",
    "    'min_impurity_decrease': [0.0, 0.1, 0.2]\n",
    "}\n",
    "\n",
    "# Create a Decision Tree Regressor\n",
    "tree_regressor = DecisionTreeRegressor()\n",
    "\n",
    "# Create a KFold cross-validation object with 5 folds\n",
    "kf = KFold(n_splits=5, shuffle=True, random_state=42)\n",
    "\n",
    "# Create a GridSearchCV object\n",
    "grid_search = GridSearchCV(estimator=tree_regressor, param_grid=param_grid, cv=kf, scoring='neg_mean_squared_error', n_jobs=-1)\n",
    "\n",
    "# Fit the GridSearchCV object to your data\n",
    "grid_search.fit(X_train, y_train)\n",
    "print(\"Best Hyperparameters:\", grid_search.best_params_)\n",
    "print(\"Best Mean Squared Error:\", -grid_search.best_score_)\n",
    "\n",
    "\n",
    "# Get the best estimator (model) from the grid search\n",
    "best_tree_regressor = grid_search.best_estimator_\n",
    "\n",
    "# Fit the best estimator to your data\n",
    "best_tree_regressor.fit(X_train, y_train) "
   ]
  },
  {
   "cell_type": "code",
   "execution_count": 72,
   "id": "030e5b41",
   "metadata": {},
   "outputs": [
    {
     "name": "stdout",
     "output_type": "stream",
     "text": [
      "Testing train set\n",
      "MSE Score : 0.241, R2 Score : 0.752\n",
      "Testing val set\n",
      "MSE Score : 0.29, R2 Score : 0.702\n"
     ]
    }
   ],
   "source": [
    "train_mse, train_r2 = validate_model_performance(best_tree_regressor, X_train, y_train, data_type='train')\n",
    "val_mse, val_r2 = validate_model_performance(best_tree_regressor, X_val, y_val, data_type='val')\n",
    "\n",
    "tmp_dict={}\n",
    "tmp_dict['model'] = 'Decision Tree'\n",
    "tmp_dict['train_mse'] = train_mse\n",
    "tmp_dict['val_mse'] = val_mse\n",
    "tmp_dict['train_r2'] = train_r2\n",
    "tmp_dict['val_r2'] = val_r2\n",
    "\n",
    "perf_dict.append(tmp_dict)"
   ]
  },
  {
   "cell_type": "code",
   "execution_count": 80,
   "id": "2f90edb6",
   "metadata": {},
   "outputs": [
    {
     "data": {
      "text/plain": [
       "[{'model': 'LinearRegression',\n",
       "  'train_mse': 0.32914539304427093,\n",
       "  'val_mse': 0.32911126955426573,\n",
       "  'train_r2': 0.661335917164788,\n",
       "  'val_r2': 0.661949155370896},\n",
       " {'model': 'RidgeRegression',\n",
       "  'train_mse': 0.3292248474042057,\n",
       "  'val_mse': 0.3289697121191184,\n",
       "  'train_r2': 0.6612541650318303,\n",
       "  'val_r2': 0.662094557898679},\n",
       " {'model': 'LassoRegression',\n",
       "  'train_mse': 0.333250349463725,\n",
       "  'val_mse': 0.3320212855101733,\n",
       "  'train_r2': 0.6571122478373369,\n",
       "  'val_r2': 0.6589600953088961},\n",
       " {'model': 'XgBoost',\n",
       "  'train_mse': 0.21035668811841887,\n",
       "  'val_mse': 0.2558575898551119,\n",
       "  'train_r2': 0.7835599210702151,\n",
       "  'val_r2': 0.7371926082250853},\n",
       " {'model': 'Decision Tree',\n",
       "  'train_mse': 0.2409274678681985,\n",
       "  'val_mse': 0.2898945774401828,\n",
       "  'train_r2': 0.7521050524792887,\n",
       "  'val_r2': 0.7022310816345584}]"
      ]
     },
     "execution_count": 80,
     "metadata": {},
     "output_type": "execute_result"
    }
   ],
   "source": [
    "perf_dict"
   ]
  },
  {
   "cell_type": "code",
   "execution_count": null,
   "id": "4906a9e3",
   "metadata": {},
   "outputs": [],
   "source": [
    "model_name = f'decision_Tree_Regressor.joblib'\n",
    "joblib.dump(best_tree_regressor, os.path.join(model_dir, model_name))"
   ]
  },
  {
   "cell_type": "markdown",
   "id": "05a79993",
   "metadata": {},
   "source": [
    "## Random Forest Regressor"
   ]
  },
  {
   "cell_type": "code",
   "execution_count": 81,
   "id": "bdf91fe1",
   "metadata": {},
   "outputs": [
    {
     "data": {
      "text/html": [
       "<style>#sk-container-id-8 {color: black;}#sk-container-id-8 pre{padding: 0;}#sk-container-id-8 div.sk-toggleable {background-color: white;}#sk-container-id-8 label.sk-toggleable__label {cursor: pointer;display: block;width: 100%;margin-bottom: 0;padding: 0.3em;box-sizing: border-box;text-align: center;}#sk-container-id-8 label.sk-toggleable__label-arrow:before {content: \"▸\";float: left;margin-right: 0.25em;color: #696969;}#sk-container-id-8 label.sk-toggleable__label-arrow:hover:before {color: black;}#sk-container-id-8 div.sk-estimator:hover label.sk-toggleable__label-arrow:before {color: black;}#sk-container-id-8 div.sk-toggleable__content {max-height: 0;max-width: 0;overflow: hidden;text-align: left;background-color: #f0f8ff;}#sk-container-id-8 div.sk-toggleable__content pre {margin: 0.2em;color: black;border-radius: 0.25em;background-color: #f0f8ff;}#sk-container-id-8 input.sk-toggleable__control:checked~div.sk-toggleable__content {max-height: 200px;max-width: 100%;overflow: auto;}#sk-container-id-8 input.sk-toggleable__control:checked~label.sk-toggleable__label-arrow:before {content: \"▾\";}#sk-container-id-8 div.sk-estimator input.sk-toggleable__control:checked~label.sk-toggleable__label {background-color: #d4ebff;}#sk-container-id-8 div.sk-label input.sk-toggleable__control:checked~label.sk-toggleable__label {background-color: #d4ebff;}#sk-container-id-8 input.sk-hidden--visually {border: 0;clip: rect(1px 1px 1px 1px);clip: rect(1px, 1px, 1px, 1px);height: 1px;margin: -1px;overflow: hidden;padding: 0;position: absolute;width: 1px;}#sk-container-id-8 div.sk-estimator {font-family: monospace;background-color: #f0f8ff;border: 1px dotted black;border-radius: 0.25em;box-sizing: border-box;margin-bottom: 0.5em;}#sk-container-id-8 div.sk-estimator:hover {background-color: #d4ebff;}#sk-container-id-8 div.sk-parallel-item::after {content: \"\";width: 100%;border-bottom: 1px solid gray;flex-grow: 1;}#sk-container-id-8 div.sk-label:hover label.sk-toggleable__label {background-color: #d4ebff;}#sk-container-id-8 div.sk-serial::before {content: \"\";position: absolute;border-left: 1px solid gray;box-sizing: border-box;top: 0;bottom: 0;left: 50%;z-index: 0;}#sk-container-id-8 div.sk-serial {display: flex;flex-direction: column;align-items: center;background-color: white;padding-right: 0.2em;padding-left: 0.2em;position: relative;}#sk-container-id-8 div.sk-item {position: relative;z-index: 1;}#sk-container-id-8 div.sk-parallel {display: flex;align-items: stretch;justify-content: center;background-color: white;position: relative;}#sk-container-id-8 div.sk-item::before, #sk-container-id-8 div.sk-parallel-item::before {content: \"\";position: absolute;border-left: 1px solid gray;box-sizing: border-box;top: 0;bottom: 0;left: 50%;z-index: -1;}#sk-container-id-8 div.sk-parallel-item {display: flex;flex-direction: column;z-index: 1;position: relative;background-color: white;}#sk-container-id-8 div.sk-parallel-item:first-child::after {align-self: flex-end;width: 50%;}#sk-container-id-8 div.sk-parallel-item:last-child::after {align-self: flex-start;width: 50%;}#sk-container-id-8 div.sk-parallel-item:only-child::after {width: 0;}#sk-container-id-8 div.sk-dashed-wrapped {border: 1px dashed gray;margin: 0 0.4em 0.5em 0.4em;box-sizing: border-box;padding-bottom: 0.4em;background-color: white;}#sk-container-id-8 div.sk-label label {font-family: monospace;font-weight: bold;display: inline-block;line-height: 1.2em;}#sk-container-id-8 div.sk-label-container {text-align: center;}#sk-container-id-8 div.sk-container {/* jupyter's `normalize.less` sets `[hidden] { display: none; }` but bootstrap.min.css set `[hidden] { display: none !important; }` so we also need the `!important` here to be able to override the default hidden behavior on the sphinx rendered scikit-learn.org. See: https://github.com/scikit-learn/scikit-learn/issues/21755 */display: inline-block !important;position: relative;}#sk-container-id-8 div.sk-text-repr-fallback {display: none;}</style><div id=\"sk-container-id-8\" class=\"sk-top-container\"><div class=\"sk-text-repr-fallback\"><pre>RandomForestRegressor(n_jobs=-1)</pre><b>In a Jupyter environment, please rerun this cell to show the HTML representation or trust the notebook. <br />On GitHub, the HTML representation is unable to render, please try loading this page with nbviewer.org.</b></div><div class=\"sk-container\" hidden><div class=\"sk-item\"><div class=\"sk-estimator sk-toggleable\"><input class=\"sk-toggleable__control sk-hidden--visually\" id=\"sk-estimator-id-8\" type=\"checkbox\" checked><label for=\"sk-estimator-id-8\" class=\"sk-toggleable__label sk-toggleable__label-arrow\">RandomForestRegressor</label><div class=\"sk-toggleable__content\"><pre>RandomForestRegressor(n_jobs=-1)</pre></div></div></div></div></div>"
      ],
      "text/plain": [
       "RandomForestRegressor(n_jobs=-1)"
      ]
     },
     "execution_count": 81,
     "metadata": {},
     "output_type": "execute_result"
    }
   ],
   "source": [
    "rf = RandomForestRegressor(n_estimators=100, n_jobs=-1)\n",
    "rf.fit(X_train, y_train)"
   ]
  },
  {
   "cell_type": "code",
   "execution_count": 82,
   "id": "38306eaa",
   "metadata": {},
   "outputs": [
    {
     "name": "stdout",
     "output_type": "stream",
     "text": [
      "Testing train set\n",
      "MSE Score : 0.056, R2 Score : 0.942\n",
      "Testing val set\n",
      "MSE Score : 0.278, R2 Score : 0.715\n"
     ]
    }
   ],
   "source": [
    "train_mse, train_r2 = validate_model_performance(rf, X_train, y_train, data_type='train')\n",
    "val_mse, val_r2 = validate_model_performance(rf, X_val, y_val, data_type='val')"
   ]
  },
  {
   "cell_type": "code",
   "execution_count": null,
   "id": "5bd40620",
   "metadata": {},
   "outputs": [],
   "source": [
    "train_mse, train_r2 = validate_model_performance(best_random_forest_regressor, X_train, y_train, data_type='train')\n",
    "val_mse, val_r2 = validate_model_performance(best_random_forest_regressor, X_val, y_val, data_type='val')\n",
    "\n",
    "tmp_dict={}\n",
    "tmp_dict['model'] = 'RandomForest'\n",
    "tmp_dict['train_mse'] = train_mse\n",
    "tmp_dict['val_mse'] = val_mse\n",
    "tmp_dict['train_r2'] = train_r2\n",
    "tmp_dict['val_r2'] = val_r2\n",
    "\n",
    "perf_dict.append(tmp_dict)"
   ]
  },
  {
   "cell_type": "code",
   "execution_count": null,
   "id": "ec19a0f4",
   "metadata": {},
   "outputs": [],
   "source": [
    "print(perf_dict)"
   ]
  },
  {
   "cell_type": "code",
   "execution_count": null,
   "id": "7617d5e2",
   "metadata": {},
   "outputs": [],
   "source": [
    "model_name = f'RandomForest_Regressor.joblib'\n",
    "joblib.dump(best_random_forest_regressor, os.path.join(model_dir, model_name))"
   ]
  },
  {
   "cell_type": "code",
   "execution_count": 3,
   "id": "cd87b7af",
   "metadata": {},
   "outputs": [
    {
     "data": {
      "text/plain": [
       "[{'model': 'LinearRegression',\n",
       "  'train_mse': 0.32914539304427093,\n",
       "  'val_mse': 0.32911126955426573,\n",
       "  'train_r2': 0.661335917164788,\n",
       "  'val_r2': 0.661949155370896},\n",
       " {'model': 'RidgeRegression',\n",
       "  'train_mse': 0.3292248474042057,\n",
       "  'val_mse': 0.3289697121191184,\n",
       "  'train_r2': 0.6612541650318303,\n",
       "  'val_r2': 0.662094557898679},\n",
       " {'model': 'LassoRegression',\n",
       "  'train_mse': 0.333250349463725,\n",
       "  'val_mse': 0.3320212855101733,\n",
       "  'train_r2': 0.6571122478373369,\n",
       "  'val_r2': 0.6589600953088961},\n",
       " {'model': 'XgBoost',\n",
       "  'train_mse': 0.21035668811841887,\n",
       "  'val_mse': 0.2558575898551119,\n",
       "  'train_r2': 0.7835599210702151,\n",
       "  'val_r2': 0.7371926082250853},\n",
       " {'model': 'Decision Tree',\n",
       "  'train_mse': 0.2409274678681985,\n",
       "  'val_mse': 0.2898945774401828,\n",
       "  'train_r2': 0.7521050524792887,\n",
       "  'val_r2': 0.7022310816345584},\n",
       " {'model': 'RandomForest',\n",
       "  'train_mse': 0.056,\n",
       "  'val_mse': 0.278,\n",
       "  'train_r2': 0.942,\n",
       "  'val_r2': 0.715}]"
      ]
     },
     "execution_count": 3,
     "metadata": {},
     "output_type": "execute_result"
    }
   ],
   "source": [
    "perf_dict = json.load(open(os.path.join(model_dir, 'perf_dict.json')))\n",
    "perf_dict"
   ]
  },
  {
   "cell_type": "code",
   "execution_count": 4,
   "id": "1919cee8",
   "metadata": {},
   "outputs": [
    {
     "data": {
      "text/html": [
       "<div>\n",
       "<style scoped>\n",
       "    .dataframe tbody tr th:only-of-type {\n",
       "        vertical-align: middle;\n",
       "    }\n",
       "\n",
       "    .dataframe tbody tr th {\n",
       "        vertical-align: top;\n",
       "    }\n",
       "\n",
       "    .dataframe thead th {\n",
       "        text-align: right;\n",
       "    }\n",
       "</style>\n",
       "<table border=\"1\" class=\"dataframe\">\n",
       "  <thead>\n",
       "    <tr style=\"text-align: right;\">\n",
       "      <th></th>\n",
       "      <th>model</th>\n",
       "      <th>train_mse</th>\n",
       "      <th>val_mse</th>\n",
       "      <th>train_r2</th>\n",
       "      <th>val_r2</th>\n",
       "    </tr>\n",
       "  </thead>\n",
       "  <tbody>\n",
       "    <tr>\n",
       "      <th>0</th>\n",
       "      <td>LinearRegression</td>\n",
       "      <td>0.329145</td>\n",
       "      <td>0.329111</td>\n",
       "      <td>0.661336</td>\n",
       "      <td>0.661949</td>\n",
       "    </tr>\n",
       "    <tr>\n",
       "      <th>1</th>\n",
       "      <td>RidgeRegression</td>\n",
       "      <td>0.329225</td>\n",
       "      <td>0.328970</td>\n",
       "      <td>0.661254</td>\n",
       "      <td>0.662095</td>\n",
       "    </tr>\n",
       "    <tr>\n",
       "      <th>2</th>\n",
       "      <td>LassoRegression</td>\n",
       "      <td>0.333250</td>\n",
       "      <td>0.332021</td>\n",
       "      <td>0.657112</td>\n",
       "      <td>0.658960</td>\n",
       "    </tr>\n",
       "    <tr>\n",
       "      <th>3</th>\n",
       "      <td>XgBoost</td>\n",
       "      <td>0.210357</td>\n",
       "      <td>0.255858</td>\n",
       "      <td>0.783560</td>\n",
       "      <td>0.737193</td>\n",
       "    </tr>\n",
       "    <tr>\n",
       "      <th>4</th>\n",
       "      <td>Decision Tree</td>\n",
       "      <td>0.240927</td>\n",
       "      <td>0.289895</td>\n",
       "      <td>0.752105</td>\n",
       "      <td>0.702231</td>\n",
       "    </tr>\n",
       "  </tbody>\n",
       "</table>\n",
       "</div>"
      ],
      "text/plain": [
       "              model  train_mse   val_mse  train_r2    val_r2\n",
       "0  LinearRegression   0.329145  0.329111  0.661336  0.661949\n",
       "1   RidgeRegression   0.329225  0.328970  0.661254  0.662095\n",
       "2   LassoRegression   0.333250  0.332021  0.657112  0.658960\n",
       "3           XgBoost   0.210357  0.255858  0.783560  0.737193\n",
       "4     Decision Tree   0.240927  0.289895  0.752105  0.702231"
      ]
     },
     "execution_count": 4,
     "metadata": {},
     "output_type": "execute_result"
    }
   ],
   "source": [
    "perf_df = pd.DataFrame(perf_dict)\n",
    "perf_df.head()"
   ]
  },
  {
   "cell_type": "code",
   "execution_count": 22,
   "id": "7d09e705",
   "metadata": {},
   "outputs": [
    {
     "data": {
      "image/png": "[encoded data removed]",
      "text/plain": [
       "<Figure size 1400x600 with 2 Axes>"
      ]
     },
     "metadata": {},
     "output_type": "display_data"
    }
   ],
   "source": [
    "fig, axes = plt.subplots(nrows=1, ncols=2, figsize=(14, 6))\n",
    "#axes.tick_params(axis='x', labelrotation=45)\n",
    "\n",
    "# Histogram for R2 scores\n",
    "r2_scores = perf_df[['model', 'train_r2', 'val_r2']]\n",
    "r2_scores.plot(x='model', kind='bar', ax=axes[0])\n",
    "axes[0].set_title('R2 Scores',fontsize=15)\n",
    "axes[0].set_xlabel('Model',fontsize=15)\n",
    "axes[0].set_ylabel('R2 Score',fontsize=15)\n",
    "axes[0].legend(['Train R2', 'Validation R2'])\n",
    "\n",
    "# Histogram for MSE\n",
    "mse_scores = perf_df[['model', 'train_mse', 'val_mse']]\n",
    "mse_scores.plot(x='model', kind='bar', ax=axes[1])\n",
    "axes[1].set_title('MSE Scores',fontsize=15)\n",
    "axes[1].set_xlabel('Model',fontsize=15)\n",
    "axes[1].set_ylabel('MSE',fontsize=15)\n",
    "axes[1].legend(['Train MSE', 'Validation MSE'])\n",
    "\n",
    "# For the first subplot\n",
    "axes[0].tick_params(axis='x', labelrotation=45, labelsize='large')\n",
    "axes[0].tick_params(axis='y', labelsize='large')\n",
    "\n",
    "# For the second subplot\n",
    "axes[1].tick_params(axis='x', labelrotation=45, labelsize='large')\n",
    "axes[1].tick_params(axis='y', labelsize='large')\n",
    "\n",
    "# Adjust layout\n",
    "plt.tight_layout()\n",
    "plt.show()"
   ]
  },
  {
   "cell_type": "markdown",
   "id": "0ea176fe",
   "metadata": {},
   "source": [
    "## Conclusion\n",
    "\n",
    "Based on the above Bar Plots\n",
    "\n",
    "- Top 2 best performing models with highest R2 and lowest MSE are \n",
    "    - **Xgboost Regressor**\n",
    "        - R2 = 73.72%\n",
    "        - MSE = 0.2556)\n",
    "    - **Random Forest Regressor**\n",
    "        - R2 = 71.5%\n",
    "        - MSE = 0.278)\n",
    "    \n",
    "We will be using Xgboost Regressor for our Final results evaluations"
   ]
  },
  {
   "cell_type": "code",
   "execution_count": null,
   "id": "58502a4b",
   "metadata": {},
   "outputs": [],
   "source": []
  }
 ],
 "metadata": {
  "kernelspec": {
   "display_name": "eswd_env",
   "language": "python",
   "name": "eswd_env"
  },
  "language_info": {
   "codemirror_mode": {
    "name": "ipython",
    "version": 3
   },
   "file_extension": ".py",
   "mimetype": "text/x-python",
   "name": "python",
   "nbconvert_exporter": "python",
   "pygments_lexer": "ipython3",
   "version": "3.11.5"
  }
 },
 "nbformat": 4,
 "nbformat_minor": 5
}
