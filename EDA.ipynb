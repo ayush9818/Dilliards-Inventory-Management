{
 "cells": [
  {
   "cell_type": "markdown",
   "id": "149a8c9f",
   "metadata": {},
   "source": [
    "# Import  Data"
   ]
  },
  {
   "cell_type": "code",
   "execution_count": 22,
   "id": "0ffc0219",
   "metadata": {},
   "outputs": [],
   "source": [
    "import pandas as pd\n",
    "import numpy as np\n",
    "import matplotlib.pyplot as plt"
   ]
  },
  {
   "cell_type": "code",
   "execution_count": 3,
   "id": "c89397ff",
   "metadata": {},
   "outputs": [],
   "source": [
    "dept_df = pd.read_csv('./deptinfo.csv')\n",
    "sku_df = pd.read_csv('./skuinfo.csv')\n",
    "str_df = pd.read_csv('./strinfo.csv')\n",
    "transact_df = pd.read_csv('./trnsact_sample.csv')\n",
    "skst_df = pd.read_csv('./skstinfo_sample.csv')"
   ]
  },
  {
   "cell_type": "code",
   "execution_count": 6,
   "id": "0bece202",
   "metadata": {},
   "outputs": [
    {
     "data": {
      "text/html": [
       "<div>\n",
       "<style scoped>\n",
       "    .dataframe tbody tr th:only-of-type {\n",
       "        vertical-align: middle;\n",
       "    }\n",
       "\n",
       "    .dataframe tbody tr th {\n",
       "        vertical-align: top;\n",
       "    }\n",
       "\n",
       "    .dataframe thead th {\n",
       "        text-align: right;\n",
       "    }\n",
       "</style>\n",
       "<table border=\"1\" class=\"dataframe\">\n",
       "  <thead>\n",
       "    <tr style=\"text-align: right;\">\n",
       "      <th></th>\n",
       "      <th>DEPT</th>\n",
       "      <th>DEPTDESC</th>\n",
       "    </tr>\n",
       "  </thead>\n",
       "  <tbody>\n",
       "    <tr>\n",
       "      <th>0</th>\n",
       "      <td>800</td>\n",
       "      <td>CLINIQUE</td>\n",
       "    </tr>\n",
       "    <tr>\n",
       "      <th>1</th>\n",
       "      <td>801</td>\n",
       "      <td>LESLIE</td>\n",
       "    </tr>\n",
       "    <tr>\n",
       "      <th>2</th>\n",
       "      <td>1100</td>\n",
       "      <td>GARY F</td>\n",
       "    </tr>\n",
       "    <tr>\n",
       "      <th>3</th>\n",
       "      <td>1107</td>\n",
       "      <td>JACQUES</td>\n",
       "    </tr>\n",
       "    <tr>\n",
       "      <th>4</th>\n",
       "      <td>1202</td>\n",
       "      <td>CABERN</td>\n",
       "    </tr>\n",
       "  </tbody>\n",
       "</table>\n",
       "</div>"
      ],
      "text/plain": [
       "   DEPT  DEPTDESC\n",
       "0   800  CLINIQUE\n",
       "1   801  LESLIE  \n",
       "2  1100  GARY F  \n",
       "3  1107  JACQUES \n",
       "4  1202  CABERN  "
      ]
     },
     "execution_count": 6,
     "metadata": {},
     "output_type": "execute_result"
    }
   ],
   "source": [
    "dept_df.head()"
   ]
  },
  {
   "cell_type": "code",
   "execution_count": 7,
   "id": "3741a62e",
   "metadata": {},
   "outputs": [
    {
     "data": {
      "text/html": [
       "<div>\n",
       "<style scoped>\n",
       "    .dataframe tbody tr th:only-of-type {\n",
       "        vertical-align: middle;\n",
       "    }\n",
       "\n",
       "    .dataframe tbody tr th {\n",
       "        vertical-align: top;\n",
       "    }\n",
       "\n",
       "    .dataframe thead th {\n",
       "        text-align: right;\n",
       "    }\n",
       "</style>\n",
       "<table border=\"1\" class=\"dataframe\">\n",
       "  <thead>\n",
       "    <tr style=\"text-align: right;\">\n",
       "      <th></th>\n",
       "      <th>SKU</th>\n",
       "      <th>DEPT</th>\n",
       "      <th>CLASSID</th>\n",
       "      <th>UPC</th>\n",
       "      <th>STYLE</th>\n",
       "      <th>COLOR</th>\n",
       "      <th>SIZE</th>\n",
       "      <th>PACKSIZE</th>\n",
       "      <th>VENDOR</th>\n",
       "      <th>BRAND</th>\n",
       "    </tr>\n",
       "  </thead>\n",
       "  <tbody>\n",
       "    <tr>\n",
       "      <th>0</th>\n",
       "      <td>3</td>\n",
       "      <td>6505</td>\n",
       "      <td>113</td>\n",
       "      <td>400000003000</td>\n",
       "      <td>00    F55KT2</td>\n",
       "      <td>WHISPERWHITE</td>\n",
       "      <td>P8EA</td>\n",
       "      <td>1</td>\n",
       "      <td>5119207</td>\n",
       "      <td>TURNBURY</td>\n",
       "    </tr>\n",
       "    <tr>\n",
       "      <th>1</th>\n",
       "      <td>4</td>\n",
       "      <td>8101</td>\n",
       "      <td>002</td>\n",
       "      <td>400000004000</td>\n",
       "      <td>22    615CZ4</td>\n",
       "      <td>SPEARMI</td>\n",
       "      <td>S</td>\n",
       "      <td>1</td>\n",
       "      <td>3311144</td>\n",
       "      <td>C A SPOR</td>\n",
       "    </tr>\n",
       "    <tr>\n",
       "      <th>2</th>\n",
       "      <td>5</td>\n",
       "      <td>7307</td>\n",
       "      <td>003</td>\n",
       "      <td>400000005000</td>\n",
       "      <td>7LBS  245-01</td>\n",
       "      <td>34 SILVER</td>\n",
       "      <td>KING</td>\n",
       "      <td>1</td>\n",
       "      <td>5510554</td>\n",
       "      <td>BEAU IDE</td>\n",
       "    </tr>\n",
       "    <tr>\n",
       "      <th>3</th>\n",
       "      <td>8</td>\n",
       "      <td>3404</td>\n",
       "      <td>00B</td>\n",
       "      <td>400000008000</td>\n",
       "      <td>622   F05H84</td>\n",
       "      <td>MORNING MI</td>\n",
       "      <td>2T</td>\n",
       "      <td>1</td>\n",
       "      <td>2912827</td>\n",
       "      <td>HARTSTRI</td>\n",
       "    </tr>\n",
       "    <tr>\n",
       "      <th>4</th>\n",
       "      <td>15</td>\n",
       "      <td>2301</td>\n",
       "      <td>004</td>\n",
       "      <td>400000015000</td>\n",
       "      <td>126   MDU461</td>\n",
       "      <td>255CAMEL</td>\n",
       "      <td>12</td>\n",
       "      <td>1</td>\n",
       "      <td>23272</td>\n",
       "      <td>JONES/LA</td>\n",
       "    </tr>\n",
       "  </tbody>\n",
       "</table>\n",
       "</div>"
      ],
      "text/plain": [
       "   SKU  DEPT CLASSID           UPC         STYLE         COLOR        SIZE  \\\n",
       "0    3  6505     113  400000003000  00    F55KT2  WHISPERWHITE  P8EA         \n",
       "1    4  8101     002  400000004000  22    615CZ4  SPEARMI       S            \n",
       "2    5  7307     003  400000005000  7LBS  245-01  34 SILVER     KING         \n",
       "3    8  3404     00B  400000008000  622   F05H84  MORNING MI    2T           \n",
       "4   15  2301     004  400000015000  126   MDU461  255CAMEL      12           \n",
       "\n",
       "   PACKSIZE   VENDOR      BRAND  \n",
       "0         1  5119207  TURNBURY   \n",
       "1         1  3311144  C A SPOR   \n",
       "2         1  5510554  BEAU IDE   \n",
       "3         1  2912827  HARTSTRI   \n",
       "4         1    23272  JONES/LA   "
      ]
     },
     "execution_count": 7,
     "metadata": {},
     "output_type": "execute_result"
    }
   ],
   "source": [
    "sku_df.head()"
   ]
  },
  {
   "cell_type": "code",
   "execution_count": 8,
   "id": "0a802ad6",
   "metadata": {},
   "outputs": [
    {
     "data": {
      "text/html": [
       "<div>\n",
       "<style scoped>\n",
       "    .dataframe tbody tr th:only-of-type {\n",
       "        vertical-align: middle;\n",
       "    }\n",
       "\n",
       "    .dataframe tbody tr th {\n",
       "        vertical-align: top;\n",
       "    }\n",
       "\n",
       "    .dataframe thead th {\n",
       "        text-align: right;\n",
       "    }\n",
       "</style>\n",
       "<table border=\"1\" class=\"dataframe\">\n",
       "  <thead>\n",
       "    <tr style=\"text-align: right;\">\n",
       "      <th></th>\n",
       "      <th>STORE</th>\n",
       "      <th>CITY</th>\n",
       "      <th>STATE</th>\n",
       "      <th>ZIP</th>\n",
       "    </tr>\n",
       "  </thead>\n",
       "  <tbody>\n",
       "    <tr>\n",
       "      <th>0</th>\n",
       "      <td>2</td>\n",
       "      <td>ST. PETERSBURG</td>\n",
       "      <td>FL</td>\n",
       "      <td>33710</td>\n",
       "    </tr>\n",
       "    <tr>\n",
       "      <th>1</th>\n",
       "      <td>3</td>\n",
       "      <td>ST. LOUIS</td>\n",
       "      <td>MO</td>\n",
       "      <td>63126</td>\n",
       "    </tr>\n",
       "    <tr>\n",
       "      <th>2</th>\n",
       "      <td>4</td>\n",
       "      <td>LITTLE ROCK</td>\n",
       "      <td>AR</td>\n",
       "      <td>72201</td>\n",
       "    </tr>\n",
       "    <tr>\n",
       "      <th>3</th>\n",
       "      <td>7</td>\n",
       "      <td>FORT WORTH</td>\n",
       "      <td>TX</td>\n",
       "      <td>76137</td>\n",
       "    </tr>\n",
       "    <tr>\n",
       "      <th>4</th>\n",
       "      <td>9</td>\n",
       "      <td>TEMPE</td>\n",
       "      <td>AZ</td>\n",
       "      <td>85281</td>\n",
       "    </tr>\n",
       "  </tbody>\n",
       "</table>\n",
       "</div>"
      ],
      "text/plain": [
       "   STORE                  CITY STATE    ZIP\n",
       "0      2  ST. PETERSBURG          FL  33710\n",
       "1      3  ST. LOUIS               MO  63126\n",
       "2      4  LITTLE ROCK             AR  72201\n",
       "3      7  FORT WORTH              TX  76137\n",
       "4      9  TEMPE                   AZ  85281"
      ]
     },
     "execution_count": 8,
     "metadata": {},
     "output_type": "execute_result"
    }
   ],
   "source": [
    "str_df.head()"
   ]
  },
  {
   "cell_type": "code",
   "execution_count": 5,
   "id": "578b48ca",
   "metadata": {
    "scrolled": false
   },
   "outputs": [
    {
     "data": {
      "text/html": [
       "<div>\n",
       "<style scoped>\n",
       "    .dataframe tbody tr th:only-of-type {\n",
       "        vertical-align: middle;\n",
       "    }\n",
       "\n",
       "    .dataframe tbody tr th {\n",
       "        vertical-align: top;\n",
       "    }\n",
       "\n",
       "    .dataframe thead th {\n",
       "        text-align: right;\n",
       "    }\n",
       "</style>\n",
       "<table border=\"1\" class=\"dataframe\">\n",
       "  <thead>\n",
       "    <tr style=\"text-align: right;\">\n",
       "      <th></th>\n",
       "      <th>SKU</th>\n",
       "      <th>STORE</th>\n",
       "      <th>REGISTER</th>\n",
       "      <th>TRANNUM</th>\n",
       "      <th>SALEDATE</th>\n",
       "      <th>SEQ</th>\n",
       "      <th>INTERID</th>\n",
       "      <th>STYPE</th>\n",
       "      <th>QUANTITY</th>\n",
       "      <th>ORGPRICE</th>\n",
       "      <th>AMT</th>\n",
       "      <th>MIC</th>\n",
       "    </tr>\n",
       "  </thead>\n",
       "  <tbody>\n",
       "    <tr>\n",
       "      <th>1209158</th>\n",
       "      <td>8803</td>\n",
       "      <td>500</td>\n",
       "      <td>4500</td>\n",
       "      <td>81707633</td>\n",
       "      <td>2004-08-06</td>\n",
       "      <td>P</td>\n",
       "      <td>1</td>\n",
       "      <td>13.5</td>\n",
       "      <td>13.5</td>\n",
       "      <td>13.5</td>\n",
       "      <td>599000129</td>\n",
       "      <td>281</td>\n",
       "    </tr>\n",
       "    <tr>\n",
       "      <th>1209159</th>\n",
       "      <td>9202</td>\n",
       "      <td>320</td>\n",
       "      <td>400</td>\n",
       "      <td>454406412</td>\n",
       "      <td>2005-05-27</td>\n",
       "      <td>P</td>\n",
       "      <td>1</td>\n",
       "      <td>13.5</td>\n",
       "      <td>13.5</td>\n",
       "      <td>13.5</td>\n",
       "      <td>113500098</td>\n",
       "      <td>281</td>\n",
       "    </tr>\n",
       "    <tr>\n",
       "      <th>1209160</th>\n",
       "      <td>9204</td>\n",
       "      <td>560</td>\n",
       "      <td>9200</td>\n",
       "      <td>0</td>\n",
       "      <td>2005-04-09</td>\n",
       "      <td>P</td>\n",
       "      <td>1</td>\n",
       "      <td>13.5</td>\n",
       "      <td>13.5</td>\n",
       "      <td>13.5</td>\n",
       "      <td>611200125</td>\n",
       "      <td>281</td>\n",
       "    </tr>\n",
       "    <tr>\n",
       "      <th>1209161</th>\n",
       "      <td>9204</td>\n",
       "      <td>620</td>\n",
       "      <td>1500</td>\n",
       "      <td>0</td>\n",
       "      <td>2005-03-22</td>\n",
       "      <td>P</td>\n",
       "      <td>1</td>\n",
       "      <td>13.5</td>\n",
       "      <td>13.5</td>\n",
       "      <td>13.5</td>\n",
       "      <td>585900071</td>\n",
       "      <td>281</td>\n",
       "    </tr>\n",
       "    <tr>\n",
       "      <th>1209162</th>\n",
       "      <td>9304</td>\n",
       "      <td>370</td>\n",
       "      <td>1100</td>\n",
       "      <td>0</td>\n",
       "      <td>2004-10-03</td>\n",
       "      <td>P</td>\n",
       "      <td>1</td>\n",
       "      <td>13.5</td>\n",
       "      <td>13.5</td>\n",
       "      <td>13.5</td>\n",
       "      <td>25000163</td>\n",
       "      <td>281</td>\n",
       "    </tr>\n",
       "    <tr>\n",
       "      <th>1209163</th>\n",
       "      <td>9402</td>\n",
       "      <td>530</td>\n",
       "      <td>4200</td>\n",
       "      <td>0</td>\n",
       "      <td>2004-12-23</td>\n",
       "      <td>P</td>\n",
       "      <td>1</td>\n",
       "      <td>13.5</td>\n",
       "      <td>13.5</td>\n",
       "      <td>13.5</td>\n",
       "      <td>339400245</td>\n",
       "      <td>281</td>\n",
       "    </tr>\n",
       "    <tr>\n",
       "      <th>1209164</th>\n",
       "      <td>9404</td>\n",
       "      <td>530</td>\n",
       "      <td>300</td>\n",
       "      <td>0</td>\n",
       "      <td>2004-10-29</td>\n",
       "      <td>P</td>\n",
       "      <td>1</td>\n",
       "      <td>13.5</td>\n",
       "      <td>13.5</td>\n",
       "      <td>13.5</td>\n",
       "      <td>239600071</td>\n",
       "      <td>281</td>\n",
       "    </tr>\n",
       "    <tr>\n",
       "      <th>1209165</th>\n",
       "      <td>9409</td>\n",
       "      <td>540</td>\n",
       "      <td>7600</td>\n",
       "      <td>0</td>\n",
       "      <td>2005-04-14</td>\n",
       "      <td>P</td>\n",
       "      <td>1</td>\n",
       "      <td>13.5</td>\n",
       "      <td>13.5</td>\n",
       "      <td>13.5</td>\n",
       "      <td>512200066</td>\n",
       "      <td>281</td>\n",
       "    </tr>\n",
       "    <tr>\n",
       "      <th>1209166</th>\n",
       "      <td>9504</td>\n",
       "      <td>580</td>\n",
       "      <td>600</td>\n",
       "      <td>569000627</td>\n",
       "      <td>2005-07-17</td>\n",
       "      <td>P</td>\n",
       "      <td>1</td>\n",
       "      <td>14.0</td>\n",
       "      <td>14.0</td>\n",
       "      <td>14.0</td>\n",
       "      <td>772600072</td>\n",
       "      <td>281</td>\n",
       "    </tr>\n",
       "    <tr>\n",
       "      <th>1209167</th>\n",
       "      <td>9609</td>\n",
       "      <td>440</td>\n",
       "      <td>1700</td>\n",
       "      <td>239708823</td>\n",
       "      <td>2004-12-16</td>\n",
       "      <td>P</td>\n",
       "      <td>1</td>\n",
       "      <td>13.5</td>\n",
       "      <td>13.5</td>\n",
       "      <td>13.5</td>\n",
       "      <td>158900169</td>\n",
       "      <td>281</td>\n",
       "    </tr>\n",
       "  </tbody>\n",
       "</table>\n",
       "</div>"
      ],
      "text/plain": [
       "          SKU  STORE  REGISTER    TRANNUM    SALEDATE SEQ  INTERID  STYPE  \\\n",
       "1209158  8803    500      4500   81707633  2004-08-06   P        1   13.5   \n",
       "1209159  9202    320       400  454406412  2005-05-27   P        1   13.5   \n",
       "1209160  9204    560      9200          0  2005-04-09   P        1   13.5   \n",
       "1209161  9204    620      1500          0  2005-03-22   P        1   13.5   \n",
       "1209162  9304    370      1100          0  2004-10-03   P        1   13.5   \n",
       "1209163  9402    530      4200          0  2004-12-23   P        1   13.5   \n",
       "1209164  9404    530       300          0  2004-10-29   P        1   13.5   \n",
       "1209165  9409    540      7600          0  2005-04-14   P        1   13.5   \n",
       "1209166  9504    580       600  569000627  2005-07-17   P        1   14.0   \n",
       "1209167  9609    440      1700  239708823  2004-12-16   P        1   13.5   \n",
       "\n",
       "         QUANTITY  ORGPRICE        AMT  MIC  \n",
       "1209158      13.5      13.5  599000129  281  \n",
       "1209159      13.5      13.5  113500098  281  \n",
       "1209160      13.5      13.5  611200125  281  \n",
       "1209161      13.5      13.5  585900071  281  \n",
       "1209162      13.5      13.5   25000163  281  \n",
       "1209163      13.5      13.5  339400245  281  \n",
       "1209164      13.5      13.5  239600071  281  \n",
       "1209165      13.5      13.5  512200066  281  \n",
       "1209166      14.0      14.0  772600072  281  \n",
       "1209167      13.5      13.5  158900169  281  "
      ]
     },
     "execution_count": 5,
     "metadata": {},
     "output_type": "execute_result"
    }
   ],
   "source": [
    "transact_df.tail(10)"
   ]
  },
  {
   "cell_type": "code",
   "execution_count": 10,
   "id": "bde2eafb",
   "metadata": {},
   "outputs": [
    {
     "data": {
      "text/html": [
       "<div>\n",
       "<style scoped>\n",
       "    .dataframe tbody tr th:only-of-type {\n",
       "        vertical-align: middle;\n",
       "    }\n",
       "\n",
       "    .dataframe tbody tr th {\n",
       "        vertical-align: top;\n",
       "    }\n",
       "\n",
       "    .dataframe thead th {\n",
       "        text-align: right;\n",
       "    }\n",
       "</style>\n",
       "<table border=\"1\" class=\"dataframe\">\n",
       "  <thead>\n",
       "    <tr style=\"text-align: right;\">\n",
       "      <th></th>\n",
       "      <th>SKU</th>\n",
       "      <th>STORE</th>\n",
       "      <th>COST</th>\n",
       "      <th>RETAIL</th>\n",
       "    </tr>\n",
       "  </thead>\n",
       "  <tbody>\n",
       "    <tr>\n",
       "      <th>0</th>\n",
       "      <td>3</td>\n",
       "      <td>102</td>\n",
       "      <td>123.36</td>\n",
       "      <td>440.0</td>\n",
       "    </tr>\n",
       "    <tr>\n",
       "      <th>1</th>\n",
       "      <td>45</td>\n",
       "      <td>3504</td>\n",
       "      <td>20.66</td>\n",
       "      <td>59.0</td>\n",
       "    </tr>\n",
       "    <tr>\n",
       "      <th>2</th>\n",
       "      <td>45</td>\n",
       "      <td>8402</td>\n",
       "      <td>20.66</td>\n",
       "      <td>59.0</td>\n",
       "    </tr>\n",
       "    <tr>\n",
       "      <th>3</th>\n",
       "      <td>45</td>\n",
       "      <td>9304</td>\n",
       "      <td>20.66</td>\n",
       "      <td>59.0</td>\n",
       "    </tr>\n",
       "    <tr>\n",
       "      <th>4</th>\n",
       "      <td>78</td>\n",
       "      <td>3702</td>\n",
       "      <td>24.30</td>\n",
       "      <td>40.2</td>\n",
       "    </tr>\n",
       "  </tbody>\n",
       "</table>\n",
       "</div>"
      ],
      "text/plain": [
       "   SKU  STORE    COST  RETAIL\n",
       "0    3    102  123.36   440.0\n",
       "1   45   3504   20.66    59.0\n",
       "2   45   8402   20.66    59.0\n",
       "3   45   9304   20.66    59.0\n",
       "4   78   3702   24.30    40.2"
      ]
     },
     "execution_count": 10,
     "metadata": {},
     "output_type": "execute_result"
    }
   ],
   "source": [
    "skst_df.head()"
   ]
  },
  {
   "cell_type": "markdown",
   "id": "6b7b3ea0",
   "metadata": {},
   "source": [
    "# EDA"
   ]
  },
  {
   "cell_type": "markdown",
   "id": "d6665d05",
   "metadata": {},
   "source": [
    "### number of SKUs"
   ]
  },
  {
   "cell_type": "code",
   "execution_count": 12,
   "id": "efc85910",
   "metadata": {},
   "outputs": [
    {
     "data": {
      "text/plain": [
       "3          1\n",
       "6659825    1\n",
       "6659867    1\n",
       "6659864    1\n",
       "6659862    1\n",
       "          ..\n",
       "3336774    1\n",
       "3336770    1\n",
       "3336759    1\n",
       "3336758    1\n",
       "9999997    1\n",
       "Name: SKU, Length: 1556039, dtype: int64"
      ]
     },
     "execution_count": 12,
     "metadata": {},
     "output_type": "execute_result"
    }
   ],
   "source": [
    "sku_df.SKU.value_counts()"
   ]
  },
  {
   "cell_type": "markdown",
   "id": "b3f8d98d",
   "metadata": {},
   "source": [
    "~1.5 M SKUs. Therefore, if we do a ML problem on regression of profit margin, then we would need to do it on 1.5M rows (quite time-consumingto train)."
   ]
  },
  {
   "cell_type": "markdown",
   "id": "bbd1d374",
   "metadata": {},
   "source": [
    "### number of items per basket"
   ]
  },
  {
   "cell_type": "code",
   "execution_count": 19,
   "id": "b7986b63",
   "metadata": {},
   "outputs": [
    {
     "data": {
      "text/plain": [
       "0            747890\n",
       "823508118        13\n",
       "860108579        12\n",
       "644507320        10\n",
       "305404014         9\n",
       "              ...  \n",
       "486208083         1\n",
       "102705538         1\n",
       "618208961         1\n",
       "412702896         1\n",
       "239708823         1\n",
       "Name: TRANNUM, Length: 414662, dtype: int64"
      ]
     },
     "execution_count": 19,
     "metadata": {},
     "output_type": "execute_result"
    }
   ],
   "source": [
    "transact_df.TRANNUM.value_counts()"
   ]
  },
  {
   "cell_type": "markdown",
   "id": "fca14297",
   "metadata": {},
   "source": [
    "On a proportion, there are 4.14 M transactions, which is also quite time consuming to train. "
   ]
  },
  {
   "cell_type": "markdown",
   "id": "c4b2f1b0",
   "metadata": {},
   "source": [
    "### number of stores"
   ]
  },
  {
   "cell_type": "code",
   "execution_count": 15,
   "id": "534d229d",
   "metadata": {},
   "outputs": [
    {
     "data": {
      "text/plain": [
       "2203    2146\n",
       "8402    2107\n",
       "209     1922\n",
       "1509    1905\n",
       "9103    1900\n",
       "        ... \n",
       "100       16\n",
       "700       15\n",
       "900       12\n",
       "5306       2\n",
       "800        1\n",
       "Name: STORE, Length: 349, dtype: int64"
      ]
     },
     "execution_count": 15,
     "metadata": {},
     "output_type": "execute_result"
    }
   ],
   "source": [
    "skst_df.STORE.value_counts()"
   ]
  },
  {
   "cell_type": "markdown",
   "id": "7253c3e1",
   "metadata": {},
   "source": [
    "349 distinct stores in the resampled data"
   ]
  },
  {
   "cell_type": "markdown",
   "id": "3f4b75d2",
   "metadata": {},
   "source": [
    "### most frequently purchased items"
   ]
  },
  {
   "cell_type": "code",
   "execution_count": 17,
   "id": "a1216297",
   "metadata": {},
   "outputs": [
    {
     "data": {
      "text/plain": [
       "2007741    13\n",
       "4177422    13\n",
       "5690069    12\n",
       "5584607    12\n",
       "2104124    11\n",
       "           ..\n",
       "4187462     1\n",
       "4187558     1\n",
       "4187563     1\n",
       "4187567     1\n",
       "4949125     1\n",
       "Name: SKU, Length: 215780, dtype: int64"
      ]
     },
     "execution_count": 17,
     "metadata": {},
     "output_type": "execute_result"
    }
   ],
   "source": [
    "skst_df.SKU.value_counts()"
   ]
  },
  {
   "cell_type": "markdown",
   "id": "4d838ec1",
   "metadata": {},
   "source": [
    "Total 215K distinct items. Max items sold is 13."
   ]
  },
  {
   "cell_type": "markdown",
   "id": "8779c9a2",
   "metadata": {},
   "source": [
    "### busiest stores"
   ]
  },
  {
   "cell_type": "code",
   "execution_count": 16,
   "id": "a185f858",
   "metadata": {},
   "outputs": [
    {
     "data": {
      "text/plain": [
       "320    17244\n",
       "180    17004\n",
       "330    16897\n",
       "230    16868\n",
       "290    16647\n",
       "       ...  \n",
       "202        2\n",
       "252        2\n",
       "292        2\n",
       "182        1\n",
       "212        1\n",
       "Name: STORE, Length: 298, dtype: int64"
      ]
     },
     "execution_count": 16,
     "metadata": {},
     "output_type": "execute_result"
    }
   ],
   "source": [
    "transact_df.STORE.value_counts()"
   ]
  },
  {
   "cell_type": "markdown",
   "id": "13f6a75f",
   "metadata": {},
   "source": [
    "Store 320 with 17k transaction. Note this is resampled"
   ]
  },
  {
   "cell_type": "code",
   "execution_count": 24,
   "id": "25a8d55e",
   "metadata": {},
   "outputs": [
    {
     "data": {
      "text/plain": [
       "(array([1.75396e+05, 1.30271e+05, 3.62810e+04, 3.82220e+04, 5.84400e+03,\n",
       "        1.14000e+03, 6.96000e+02, 3.80000e+02, 1.60000e+02, 1.00000e+02,\n",
       "        7.40000e+01, 5.20000e+01, 4.80000e+01, 3.30000e+01, 2.20000e+01,\n",
       "        1.50000e+01, 1.00000e+01, 9.00000e+00, 9.00000e+00, 4.00000e+00]),\n",
       " array([ 0. ,  0.5,  1. ,  1.5,  2. ,  2.5,  3. ,  3.5,  4. ,  4.5,  5. ,\n",
       "         5.5,  6. ,  6.5,  7. ,  7.5,  8. ,  8.5,  9. ,  9.5, 10. ]),\n",
       " <BarContainer object of 20 artists>)"
      ]
     },
     "execution_count": 24,
     "metadata": {},
     "output_type": "execute_result"
    },
    {
     "data": {
      "image/png": "[encoded data removed]",
      "text/plain": [
       "<Figure size 432x288 with 1 Axes>"
      ]
     },
     "metadata": {
      "needs_background": "light"
     },
     "output_type": "display_data"
    }
   ],
   "source": [
    "skst_df['PROFIT'] = skst_df['COST'] / skst_df['RETAIL']\n",
    "skst_df['PROFIT'] = skst_df['PROFIT'].replace([np.inf, -np.inf], np.nan).dropna()\n",
    "plt.hist(skst_df['PROFIT'], bins=20, range=(0, 10))  # Adjust the range and bin count as needed"
   ]
  },
  {
   "cell_type": "code",
   "execution_count": 28,
   "id": "ac84ec05",
   "metadata": {},
   "outputs": [
    {
     "data": {
      "text/html": [
       "<div>\n",
       "<style scoped>\n",
       "    .dataframe tbody tr th:only-of-type {\n",
       "        vertical-align: middle;\n",
       "    }\n",
       "\n",
       "    .dataframe tbody tr th {\n",
       "        vertical-align: top;\n",
       "    }\n",
       "\n",
       "    .dataframe thead th {\n",
       "        text-align: right;\n",
       "    }\n",
       "</style>\n",
       "<table border=\"1\" class=\"dataframe\">\n",
       "  <thead>\n",
       "    <tr style=\"text-align: right;\">\n",
       "      <th></th>\n",
       "      <th>SKU</th>\n",
       "      <th>PROFIT</th>\n",
       "    </tr>\n",
       "  </thead>\n",
       "  <tbody>\n",
       "    <tr>\n",
       "      <th>0</th>\n",
       "      <td>3</td>\n",
       "      <td>0.280364</td>\n",
       "    </tr>\n",
       "    <tr>\n",
       "      <th>1</th>\n",
       "      <td>45</td>\n",
       "      <td>0.350169</td>\n",
       "    </tr>\n",
       "    <tr>\n",
       "      <th>2</th>\n",
       "      <td>78</td>\n",
       "      <td>0.604478</td>\n",
       "    </tr>\n",
       "    <tr>\n",
       "      <th>3</th>\n",
       "      <td>105</td>\n",
       "      <td>0.410714</td>\n",
       "    </tr>\n",
       "    <tr>\n",
       "      <th>4</th>\n",
       "      <td>149</td>\n",
       "      <td>0.447059</td>\n",
       "    </tr>\n",
       "    <tr>\n",
       "      <th>...</th>\n",
       "      <td>...</td>\n",
       "      <td>...</td>\n",
       "    </tr>\n",
       "    <tr>\n",
       "      <th>215775</th>\n",
       "      <td>9999956</td>\n",
       "      <td>0.489492</td>\n",
       "    </tr>\n",
       "    <tr>\n",
       "      <th>215776</th>\n",
       "      <td>9999960</td>\n",
       "      <td>0.425000</td>\n",
       "    </tr>\n",
       "    <tr>\n",
       "      <th>215777</th>\n",
       "      <td>9999967</td>\n",
       "      <td>0.400000</td>\n",
       "    </tr>\n",
       "    <tr>\n",
       "      <th>215778</th>\n",
       "      <td>9999974</td>\n",
       "      <td>0.731707</td>\n",
       "    </tr>\n",
       "    <tr>\n",
       "      <th>215779</th>\n",
       "      <td>9999992</td>\n",
       "      <td>0.300000</td>\n",
       "    </tr>\n",
       "  </tbody>\n",
       "</table>\n",
       "<p>215780 rows × 2 columns</p>\n",
       "</div>"
      ],
      "text/plain": [
       "            SKU    PROFIT\n",
       "0             3  0.280364\n",
       "1            45  0.350169\n",
       "2            78  0.604478\n",
       "3           105  0.410714\n",
       "4           149  0.447059\n",
       "...         ...       ...\n",
       "215775  9999956  0.489492\n",
       "215776  9999960  0.425000\n",
       "215777  9999967  0.400000\n",
       "215778  9999974  0.731707\n",
       "215779  9999992  0.300000\n",
       "\n",
       "[215780 rows x 2 columns]"
      ]
     },
     "execution_count": 28,
     "metadata": {},
     "output_type": "execute_result"
    }
   ],
   "source": [
    "skst_grouped = skst_df.groupby(['SKU'])['PROFIT'].mean().reset_index()\n",
    "skst_grouped\n",
    "skst_grouped"
   ]
  },
  {
   "cell_type": "code",
   "execution_count": 11,
   "id": "7ef39a5c",
   "metadata": {},
   "outputs": [
    {
     "data": {
      "text/plain": [
       "P    1116399\n",
       "R      92769\n",
       "Name: SEQ, dtype: int64"
      ]
     },
     "execution_count": 11,
     "metadata": {},
     "output_type": "execute_result"
    }
   ],
   "source": [
    "transact_df.SEQ.value_counts()"
   ]
  },
  {
   "cell_type": "markdown",
   "id": "508d20c8",
   "metadata": {},
   "source": [
    "The amount of returns is 10% of the amount of purchases. (but keep in mind if we undersample there are still over 1.8M entries). One thing could be to look WHETHER an SKU an been returned or not. "
   ]
  },
  {
   "cell_type": "markdown",
   "id": "5f349393",
   "metadata": {},
   "source": [
    "Store level data that we can incorporate is for each store zipcode, have the demographic informaiton (population, income, etc..)|"
   ]
  },
  {
   "cell_type": "markdown",
   "id": "4ebc2735",
   "metadata": {},
   "source": [
    "This leads to the third idea: store-level ML. Predict the demand of each store from features like the number of items sold in that store, % of return rate inside that store, avg. profit margin inside that store. Because there are only 400 stores. Very easy to build ML models. "
   ]
  },
  {
   "cell_type": "code",
   "execution_count": null,
   "id": "6efac87e",
   "metadata": {},
   "outputs": [],
   "source": []
  }
 ],
 "metadata": {
  "kernelspec": {
   "display_name": "Python 3 (ipykernel)",
   "language": "python",
   "name": "python3"
  },
  "language_info": {
   "codemirror_mode": {
    "name": "ipython",
    "version": 3
   },
   "file_extension": ".py",
   "mimetype": "text/x-python",
   "name": "python",
   "nbconvert_exporter": "python",
   "pygments_lexer": "ipython3",
   "version": "3.9.7"
  }
 },
 "nbformat": 4,
 "nbformat_minor": 5
}
